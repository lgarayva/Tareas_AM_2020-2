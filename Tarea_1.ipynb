{
 "cells": [
  {
   "cell_type": "markdown",
   "metadata": {},
   "source": [
    "# Tarea 1\n",
    "***Equipo 5***\n",
    "1. Crear una función que calcule la estimación de la probabilidad a-priori para una clase. (2 puntos)\n",
    "Nombre de función: apriori\n",
    "Parámetros: \n",
    "a) Data frame con los datos\n",
    "b) Nombre de la columna que contiene la clase a predecir\n",
    "c) Clase sobre la que se calculará estimación de la probabilidad a-priori\n",
    "Regresa:\n",
    "Probabilidad a-priori\n",
    "\n",
    "2. Crear una función que calcule la estimación de la media del PDF para una clase. (2 puntos)\n",
    "Nombre de función: media\n",
    "Parámetros: \n",
    "a) Data frame con los datos\n",
    "b) Nombre de la columna que contiene la clase a predecir\n",
    "c) Lista con los nombres de las variables independientes con los que se calculará la media. \n",
    "d) Clase sobre la que se calculará la estimación de la media\n",
    "Regresa:\n",
    "Vector con la media donde cada elemento mantiene el mismo orden de la lista de las variables independientes que se pasaron como parámetro\n",
    "\n",
    "3. Crear una función que calcule la estimación de la varianza/covarianza del PDF para todos los datos. (se asume que todas las variables independientes poseen la misma varianza/covarianza). (2 puntos)\n",
    "Nombre de función: var.covar\n",
    "Parámetros: \n",
    "a) Data frame con los datos\n",
    "b) Nombre de la columna que contiene la clase a predecir\n",
    "c) Lista con los nombres de las variables independientes con los que se calculará la estimación de la varianza/covarianza\n",
    "d) Clase sobre la que se calculará la estimación de la varianza/covarianza\n",
    "Regresa:\n",
    "Valor o Matriz con la  varianza/covarianza donde cada columna mantiene el mismo orden de la lista de las variables independientes que se pasaron como parámetro\n",
    "\n",
    "4. Crear una función que calcule el discriminante para una clase dada. (2 puntos)\n",
    "Nombre de función: delta\n",
    "Parámetros: \n",
    "a) Vector numérico X con los valores a clasificar. Deben proporcionarse en el mismo orden con el que se estimaron la media y la varianza/covarianza \n",
    "c) probabilidad a-priori estimada para esa clase\n",
    "d) Media estimada para esa clase\n",
    "e) varianza/covarianza estimada para esa clase\n",
    "Regresa:\n",
    "Valor del discriminante para la clase dada\n",
    "\n",
    "5) Crear una que función que clasifique una observación (1 punto)\n",
    "Nombre de función: clasifica\n",
    "Parámetros: \n",
    "a) Vector numérico X con los valores a clasificar. Deben proporcionarse en el mismo orden con el que se estimaron la media y la varianza/covarianza \n",
    " \n",
    "Regresa\n",
    "Clase a la que pertenece la observación\n",
    "\n",
    "6) Las estimaciones se realizarán sobre una muestra aleatoria del 80% de la base iris que se encuentra en R.  Se probará el 20% restante con la función clasifica. Se comparará la predicción contra la clase real y se reportará el porcentaje de aciertos (aquellas predicciones que sean idénticas a la clase real de la observación). Hay que realizar esta prueba con distintas variables independientes, tomando 1 o más de ellas. ¿Cómo afecta esto la predicción? (1 punto)\n",
    "\n",
    "El cálculo de las estimaciones para el caso de la normal multivariada es muy similar al que vimos en clase. Ver página 109 del libro Elements of Statistical Learning.\n"
   ]
  },
  {
   "cell_type": "markdown",
   "metadata": {},
   "source": [
    "# Clasificador LDA\n",
    "\n",
    " \n",
    "Queremos clasificar la variable Species (v. dependiente), en base a alguna de las otras variables (independientes)\n",
    "\n",
    "Primero cargamos las paqueterías necesarias, o sino se tienen instaladas, descargarlas."
   ]
  },
  {
   "cell_type": "code",
   "execution_count": 1,
   "metadata": {},
   "outputs": [
    {
     "name": "stderr",
     "output_type": "stream",
     "text": [
      "-- \u001b[1mAttaching packages\u001b[22m -------------------------------------- tidymodels 0.1.1 --\n",
      "\n",
      "\u001b[32mv\u001b[39m \u001b[34mbroom    \u001b[39m 0.7.0      \u001b[32mv\u001b[39m \u001b[34mrecipes  \u001b[39m 0.1.13\n",
      "\u001b[32mv\u001b[39m \u001b[34mdials    \u001b[39m 0.0.8      \u001b[32mv\u001b[39m \u001b[34mrsample  \u001b[39m 0.0.7 \n",
      "\u001b[32mv\u001b[39m \u001b[34mdplyr    \u001b[39m 1.0.2      \u001b[32mv\u001b[39m \u001b[34mtibble   \u001b[39m 3.0.3 \n",
      "\u001b[32mv\u001b[39m \u001b[34mggplot2  \u001b[39m 3.3.2      \u001b[32mv\u001b[39m \u001b[34mtidyr    \u001b[39m 1.1.1 \n",
      "\u001b[32mv\u001b[39m \u001b[34minfer    \u001b[39m 0.5.3      \u001b[32mv\u001b[39m \u001b[34mtune     \u001b[39m 0.1.1 \n",
      "\u001b[32mv\u001b[39m \u001b[34mmodeldata\u001b[39m 0.0.2      \u001b[32mv\u001b[39m \u001b[34mworkflows\u001b[39m 0.1.3 \n",
      "\u001b[32mv\u001b[39m \u001b[34mparsnip  \u001b[39m 0.1.3      \u001b[32mv\u001b[39m \u001b[34myardstick\u001b[39m 0.0.7 \n",
      "\u001b[32mv\u001b[39m \u001b[34mpurrr    \u001b[39m 0.3.4      \n",
      "\n",
      "-- \u001b[1mConflicts\u001b[22m ----------------------------------------- tidymodels_conflicts() --\n",
      "\u001b[31mx\u001b[39m \u001b[34mpurrr\u001b[39m::\u001b[32mdiscard()\u001b[39m masks \u001b[34mscales\u001b[39m::discard()\n",
      "\u001b[31mx\u001b[39m \u001b[34mdplyr\u001b[39m::\u001b[32mfilter()\u001b[39m  masks \u001b[34mstats\u001b[39m::filter()\n",
      "\u001b[31mx\u001b[39m \u001b[34mdplyr\u001b[39m::\u001b[32mlag()\u001b[39m     masks \u001b[34mstats\u001b[39m::lag()\n",
      "\u001b[31mx\u001b[39m \u001b[34mrecipes\u001b[39m::\u001b[32mstep()\u001b[39m  masks \u001b[34mstats\u001b[39m::step()\n",
      "\n",
      "-- \u001b[1mAttaching packages\u001b[22m --------------------------------------- tidyverse 1.3.0 --\n",
      "\n",
      "\u001b[32mv\u001b[39m \u001b[34mreadr  \u001b[39m 1.3.1     \u001b[32mv\u001b[39m \u001b[34mforcats\u001b[39m 0.5.0\n",
      "\u001b[32mv\u001b[39m \u001b[34mstringr\u001b[39m 1.4.0     \n",
      "\n",
      "-- \u001b[1mConflicts\u001b[22m ------------------------------------------ tidyverse_conflicts() --\n",
      "\u001b[31mx\u001b[39m \u001b[34mreadr\u001b[39m::\u001b[32mcol_factor()\u001b[39m masks \u001b[34mscales\u001b[39m::col_factor()\n",
      "\u001b[31mx\u001b[39m \u001b[34mpurrr\u001b[39m::\u001b[32mdiscard()\u001b[39m    masks \u001b[34mscales\u001b[39m::discard()\n",
      "\u001b[31mx\u001b[39m \u001b[34mdplyr\u001b[39m::\u001b[32mfilter()\u001b[39m     masks \u001b[34mstats\u001b[39m::filter()\n",
      "\u001b[31mx\u001b[39m \u001b[34mstringr\u001b[39m::\u001b[32mfixed()\u001b[39m    masks \u001b[34mrecipes\u001b[39m::fixed()\n",
      "\u001b[31mx\u001b[39m \u001b[34mdplyr\u001b[39m::\u001b[32mlag()\u001b[39m        masks \u001b[34mstats\u001b[39m::lag()\n",
      "\u001b[31mx\u001b[39m \u001b[34mreadr\u001b[39m::\u001b[32mspec()\u001b[39m       masks \u001b[34myardstick\u001b[39m::spec()\n",
      "\n"
     ]
    }
   ],
   "source": [
    "#install.packages(\"tidymodels\", \"tidyverse\")\n",
    "\n",
    "library(tidymodels)\n",
    "library(tidyverse)"
   ]
  },
  {
   "cell_type": "markdown",
   "metadata": {},
   "source": [
    "Procedemos a separar el set de datos en Train y Test con una proporción 80-20"
   ]
  },
  {
   "cell_type": "code",
   "execution_count": 2,
   "metadata": {},
   "outputs": [],
   "source": [
    "set.seed(123)\n",
    "iris_split<-initial_split(iris,prop=0.8)\n",
    "iris_train<-training(iris_split)\n",
    "iris_test<-testing(iris_split)"
   ]
  },
  {
   "cell_type": "markdown",
   "metadata": {},
   "source": [
    "Vamos a trabajar con iris_train y vamos a tratar de clasificar la especie en base al Petal Length.\n",
    "\n",
    "Vamos a ver un resumen de los datos."
   ]
  },
  {
   "cell_type": "code",
   "execution_count": 3,
   "metadata": {},
   "outputs": [
    {
     "data": {
      "text/plain": [
       "  Sepal.Length    Sepal.Width     Petal.Length    Petal.Width   \n",
       " Min.   :4.400   Min.   :2.000   Min.   :1.200   Min.   :0.100  \n",
       " 1st Qu.:5.100   1st Qu.:2.800   1st Qu.:1.600   1st Qu.:0.300  \n",
       " Median :5.800   Median :3.000   Median :4.300   Median :1.300  \n",
       " Mean   :5.839   Mean   :3.073   Mean   :3.729   Mean   :1.188  \n",
       " 3rd Qu.:6.400   3rd Qu.:3.400   3rd Qu.:5.100   3rd Qu.:1.800  \n",
       " Max.   :7.900   Max.   :4.400   Max.   :6.900   Max.   :2.500  \n",
       "       Species  \n",
       " setosa    :41  \n",
       " versicolor:41  \n",
       " virginica :39  \n",
       "                \n",
       "                \n",
       "                "
      ]
     },
     "metadata": {},
     "output_type": "display_data"
    }
   ],
   "source": [
    "summary(iris_train)"
   ]
  },
  {
   "cell_type": "markdown",
   "metadata": {},
   "source": [
    "Creamos un vector con las variavbles independientes y con las clases a predecir."
   ]
  },
  {
   "cell_type": "code",
   "execution_count": 4,
   "metadata": {},
   "outputs": [],
   "source": [
    "v_ind<-c(\"Sepal.Length\", \"Sepal.Width\", \"Petal.Length\", \"Petal.Width\")\n",
    "clases <- c(\"setosa\", \"versicolor\", \"virginica\")"
   ]
  },
  {
   "cell_type": "markdown",
   "metadata": {},
   "source": [
    "Creamos las funciones solicitadas para estimar los parámetros para cada clase\n",
    "## 1. apriori\n",
    "\n",
    "$$\\hat{\\pi}_{k} = \\frac{n_{k}}{n} $$"
   ]
  },
  {
   "cell_type": "code",
   "execution_count": 5,
   "metadata": {},
   "outputs": [],
   "source": [
    "apriori<-function(df,columna,clase) {\n",
    "  qclase<-filter(df,columna==clase)\n",
    "  a<-nrow(qclase)\n",
    "  b<-nrow(df)\n",
    "  a/b}"
   ]
  },
  {
   "cell_type": "code",
   "execution_count": 6,
   "metadata": {},
   "outputs": [
    {
     "data": {
      "text/html": [
       "<style>\n",
       ".dl-inline {width: auto; margin:0; padding: 0}\n",
       ".dl-inline>dt, .dl-inline>dd {float: none; width: auto; display: inline-block}\n",
       ".dl-inline>dt::after {content: \":\\0020\"; padding-right: .5ex}\n",
       ".dl-inline>dt:not(:first-of-type) {padding-left: .5ex}\n",
       "</style><dl class=dl-inline><dt>setosa</dt><dd>0.338842975206612</dd><dt>versicolor</dt><dd>0.338842975206612</dd><dt>virginica</dt><dd>0.322314049586777</dd></dl>\n"
      ],
      "text/latex": [
       "\\begin{description*}\n",
       "\\item[setosa] 0.338842975206612\n",
       "\\item[versicolor] 0.338842975206612\n",
       "\\item[virginica] 0.322314049586777\n",
       "\\end{description*}\n"
      ],
      "text/markdown": [
       "setosa\n",
       ":   0.338842975206612versicolor\n",
       ":   0.338842975206612virginica\n",
       ":   0.322314049586777\n",
       "\n"
      ],
      "text/plain": [
       "    setosa versicolor  virginica \n",
       "  0.338843   0.338843   0.322314 "
      ]
     },
     "metadata": {},
     "output_type": "display_data"
    }
   ],
   "source": [
    "aprioris <- c()\n",
    "for(i in clases){\n",
    "    aprioris[i] <- apriori(iris_train,iris_train$Species,i)\n",
    "}\n",
    "aprioris"
   ]
  },
  {
   "cell_type": "markdown",
   "metadata": {},
   "source": [
    "## 2.Media\n",
    "\n",
    "$$\\hat{\\mu}_{k} = \\frac{1}{n_{k}} \\sum_{i:y_{i}=k} x_{i}$$\n",
    "\n",
    "Calcular la media de los valores que toma el clasificador (v.ind) para los elementos de una clase. \n",
    "\n",
    "Si las variables independientes son varias, devuelve un vector de varios elementos. "
   ]
  },
  {
   "cell_type": "code",
   "execution_count": 7,
   "metadata": {},
   "outputs": [],
   "source": [
    "media<-function(df,columna,lista,clase){\n",
    "  df %>% filter(columna==clase) %>% \n",
    "    select(lista) %>% \n",
    "    sapply(mean)}"
   ]
  },
  {
   "cell_type": "markdown",
   "metadata": {},
   "source": [
    "Definimos vectores con las medias con cada variable      "
   ]
  },
  {
   "cell_type": "code",
   "execution_count": 8,
   "metadata": {},
   "outputs": [
    {
     "name": "stderr",
     "output_type": "stream",
     "text": [
      "Note: Using an external vector in selections is ambiguous.\n",
      "\u001b[34mi\u001b[39m Use `all_of(lista)` instead of `lista` to silence this message.\n",
      "\u001b[34mi\u001b[39m See <https://tidyselect.r-lib.org/reference/faq-external-vector.html>.\n",
      "\u001b[90mThis message is displayed once per session.\u001b[39m\n",
      "\n"
     ]
    }
   ],
   "source": [
    "medias_sl <- c()\n",
    "medias_sw <- c()\n",
    "medias_pl <- c()\n",
    "medias_pw <- c()\n",
    "for(i in clases){\n",
    "    medias_sl[i] <- media(iris_train,iris_train$Species,v_ind[1],i)\n",
    "}\n",
    "for(i in clases){\n",
    "    medias_sw[i] <- media(iris_train,iris_train$Species,v_ind[2],i)\n",
    "    }\n",
    "for(i in clases){\n",
    "    medias_pl[i] <- media(iris_train,iris_train$Species,v_ind[3],i)\n",
    "    }\n",
    "for(i in clases){\n",
    "    medias_pw[i] <- media(iris_train,iris_train$Species,v_ind[4],i)\n",
    "    }\n"
   ]
  },
  {
   "cell_type": "code",
   "execution_count": 9,
   "metadata": {},
   "outputs": [
    {
     "data": {
      "text/html": [
       "<style>\n",
       ".dl-inline {width: auto; margin:0; padding: 0}\n",
       ".dl-inline>dt, .dl-inline>dd {float: none; width: auto; display: inline-block}\n",
       ".dl-inline>dt::after {content: \":\\0020\"; padding-right: .5ex}\n",
       ".dl-inline>dt:not(:first-of-type) {padding-left: .5ex}\n",
       "</style><dl class=dl-inline><dt>setosa</dt><dd>5.06341463414634</dd><dt>versicolor</dt><dd>5.94146341463415</dd><dt>virginica</dt><dd>6.54615384615385</dd></dl>\n"
      ],
      "text/latex": [
       "\\begin{description*}\n",
       "\\item[setosa] 5.06341463414634\n",
       "\\item[versicolor] 5.94146341463415\n",
       "\\item[virginica] 6.54615384615385\n",
       "\\end{description*}\n"
      ],
      "text/markdown": [
       "setosa\n",
       ":   5.06341463414634versicolor\n",
       ":   5.94146341463415virginica\n",
       ":   6.54615384615385\n",
       "\n"
      ],
      "text/plain": [
       "    setosa versicolor  virginica \n",
       "  5.063415   5.941463   6.546154 "
      ]
     },
     "metadata": {},
     "output_type": "display_data"
    },
    {
     "data": {
      "text/html": [
       "<style>\n",
       ".dl-inline {width: auto; margin:0; padding: 0}\n",
       ".dl-inline>dt, .dl-inline>dd {float: none; width: auto; display: inline-block}\n",
       ".dl-inline>dt::after {content: \":\\0020\"; padding-right: .5ex}\n",
       ".dl-inline>dt:not(:first-of-type) {padding-left: .5ex}\n",
       "</style><dl class=dl-inline><dt>setosa</dt><dd>3.46585365853659</dd><dt>versicolor</dt><dd>2.7780487804878</dd><dt>virginica</dt><dd>2.96923076923077</dd></dl>\n"
      ],
      "text/latex": [
       "\\begin{description*}\n",
       "\\item[setosa] 3.46585365853659\n",
       "\\item[versicolor] 2.7780487804878\n",
       "\\item[virginica] 2.96923076923077\n",
       "\\end{description*}\n"
      ],
      "text/markdown": [
       "setosa\n",
       ":   3.46585365853659versicolor\n",
       ":   2.7780487804878virginica\n",
       ":   2.96923076923077\n",
       "\n"
      ],
      "text/plain": [
       "    setosa versicolor  virginica \n",
       "  3.465854   2.778049   2.969231 "
      ]
     },
     "metadata": {},
     "output_type": "display_data"
    },
    {
     "data": {
      "text/html": [
       "<style>\n",
       ".dl-inline {width: auto; margin:0; padding: 0}\n",
       ".dl-inline>dt, .dl-inline>dd {float: none; width: auto; display: inline-block}\n",
       ".dl-inline>dt::after {content: \":\\0020\"; padding-right: .5ex}\n",
       ".dl-inline>dt:not(:first-of-type) {padding-left: .5ex}\n",
       "</style><dl class=dl-inline><dt>setosa</dt><dd>1.49024390243902</dd><dt>versicolor</dt><dd>4.27073170731707</dd><dt>virginica</dt><dd>5.51282051282051</dd></dl>\n"
      ],
      "text/latex": [
       "\\begin{description*}\n",
       "\\item[setosa] 1.49024390243902\n",
       "\\item[versicolor] 4.27073170731707\n",
       "\\item[virginica] 5.51282051282051\n",
       "\\end{description*}\n"
      ],
      "text/markdown": [
       "setosa\n",
       ":   1.49024390243902versicolor\n",
       ":   4.27073170731707virginica\n",
       ":   5.51282051282051\n",
       "\n"
      ],
      "text/plain": [
       "    setosa versicolor  virginica \n",
       "  1.490244   4.270732   5.512821 "
      ]
     },
     "metadata": {},
     "output_type": "display_data"
    },
    {
     "data": {
      "text/html": [
       "<style>\n",
       ".dl-inline {width: auto; margin:0; padding: 0}\n",
       ".dl-inline>dt, .dl-inline>dd {float: none; width: auto; display: inline-block}\n",
       ".dl-inline>dt::after {content: \":\\0020\"; padding-right: .5ex}\n",
       ".dl-inline>dt:not(:first-of-type) {padding-left: .5ex}\n",
       "</style><dl class=dl-inline><dt>setosa</dt><dd>0.248780487804878</dd><dt>versicolor</dt><dd>1.33170731707317</dd><dt>virginica</dt><dd>2.02564102564103</dd></dl>\n"
      ],
      "text/latex": [
       "\\begin{description*}\n",
       "\\item[setosa] 0.248780487804878\n",
       "\\item[versicolor] 1.33170731707317\n",
       "\\item[virginica] 2.02564102564103\n",
       "\\end{description*}\n"
      ],
      "text/markdown": [
       "setosa\n",
       ":   0.248780487804878versicolor\n",
       ":   1.33170731707317virginica\n",
       ":   2.02564102564103\n",
       "\n"
      ],
      "text/plain": [
       "    setosa versicolor  virginica \n",
       " 0.2487805  1.3317073  2.0256410 "
      ]
     },
     "metadata": {},
     "output_type": "display_data"
    }
   ],
   "source": [
    "medias_sl\n",
    "medias_sw\n",
    "medias_pl\n",
    "medias_pw"
   ]
  },
  {
   "cell_type": "code",
   "execution_count": 10,
   "metadata": {},
   "outputs": [
    {
     "data": {
      "text/html": [
       "<dl>\n",
       "\t<dt>$setosa</dt>\n",
       "\t\t<dd><style>\n",
       ".dl-inline {width: auto; margin:0; padding: 0}\n",
       ".dl-inline>dt, .dl-inline>dd {float: none; width: auto; display: inline-block}\n",
       ".dl-inline>dt::after {content: \":\\0020\"; padding-right: .5ex}\n",
       ".dl-inline>dt:not(:first-of-type) {padding-left: .5ex}\n",
       "</style><dl class=dl-inline><dt>Petal.Length</dt><dd>1.49024390243902</dd><dt>Petal.Width</dt><dd>0.248780487804878</dd></dl>\n",
       "</dd>\n",
       "\t<dt>$versicolor</dt>\n",
       "\t\t<dd><style>\n",
       ".dl-inline {width: auto; margin:0; padding: 0}\n",
       ".dl-inline>dt, .dl-inline>dd {float: none; width: auto; display: inline-block}\n",
       ".dl-inline>dt::after {content: \":\\0020\"; padding-right: .5ex}\n",
       ".dl-inline>dt:not(:first-of-type) {padding-left: .5ex}\n",
       "</style><dl class=dl-inline><dt>Petal.Length</dt><dd>4.27073170731707</dd><dt>Petal.Width</dt><dd>1.33170731707317</dd></dl>\n",
       "</dd>\n",
       "\t<dt>$virginica</dt>\n",
       "\t\t<dd><style>\n",
       ".dl-inline {width: auto; margin:0; padding: 0}\n",
       ".dl-inline>dt, .dl-inline>dd {float: none; width: auto; display: inline-block}\n",
       ".dl-inline>dt::after {content: \":\\0020\"; padding-right: .5ex}\n",
       ".dl-inline>dt:not(:first-of-type) {padding-left: .5ex}\n",
       "</style><dl class=dl-inline><dt>Petal.Length</dt><dd>5.51282051282051</dd><dt>Petal.Width</dt><dd>2.02564102564103</dd></dl>\n",
       "</dd>\n",
       "</dl>\n"
      ],
      "text/latex": [
       "\\begin{description}\n",
       "\\item[\\$setosa] \\begin{description*}\n",
       "\\item[Petal.Length] 1.49024390243902\n",
       "\\item[Petal.Width] 0.248780487804878\n",
       "\\end{description*}\n",
       "\n",
       "\\item[\\$versicolor] \\begin{description*}\n",
       "\\item[Petal.Length] 4.27073170731707\n",
       "\\item[Petal.Width] 1.33170731707317\n",
       "\\end{description*}\n",
       "\n",
       "\\item[\\$virginica] \\begin{description*}\n",
       "\\item[Petal.Length] 5.51282051282051\n",
       "\\item[Petal.Width] 2.02564102564103\n",
       "\\end{description*}\n",
       "\n",
       "\\end{description}\n"
      ],
      "text/markdown": [
       "$setosa\n",
       ":   Petal.Length\n",
       ":   1.49024390243902Petal.Width\n",
       ":   0.248780487804878\n",
       "\n",
       "\n",
       "$versicolor\n",
       ":   Petal.Length\n",
       ":   4.27073170731707Petal.Width\n",
       ":   1.33170731707317\n",
       "\n",
       "\n",
       "$virginica\n",
       ":   Petal.Length\n",
       ":   5.51282051282051Petal.Width\n",
       ":   2.02564102564103\n",
       "\n",
       "\n",
       "\n",
       "\n"
      ],
      "text/plain": [
       "$setosa\n",
       "Petal.Length  Petal.Width \n",
       "   1.4902439    0.2487805 \n",
       "\n",
       "$versicolor\n",
       "Petal.Length  Petal.Width \n",
       "    4.270732     1.331707 \n",
       "\n",
       "$virginica\n",
       "Petal.Length  Petal.Width \n",
       "    5.512821     2.025641 \n"
      ]
     },
     "metadata": {},
     "output_type": "display_data"
    }
   ],
   "source": [
    "#Medias de Petal Length y Pethal Width\n",
    "medias_pwpl <- list()\n",
    "for(i in clases){\n",
    "    medias_pwpl[[i]] <- media(iris_train,iris_train$Species,v_ind[3:4],i)\n",
    "}\n",
    "medias_pwpl"
   ]
  },
  {
   "cell_type": "code",
   "execution_count": 11,
   "metadata": {},
   "outputs": [
    {
     "data": {
      "text/html": [
       "<dl>\n",
       "\t<dt>$setosa</dt>\n",
       "\t\t<dd><style>\n",
       ".dl-inline {width: auto; margin:0; padding: 0}\n",
       ".dl-inline>dt, .dl-inline>dd {float: none; width: auto; display: inline-block}\n",
       ".dl-inline>dt::after {content: \":\\0020\"; padding-right: .5ex}\n",
       ".dl-inline>dt:not(:first-of-type) {padding-left: .5ex}\n",
       "</style><dl class=dl-inline><dt>Sepal.Length</dt><dd>5.06341463414634</dd><dt>Sepal.Width</dt><dd>3.46585365853659</dd></dl>\n",
       "</dd>\n",
       "\t<dt>$versicolor</dt>\n",
       "\t\t<dd><style>\n",
       ".dl-inline {width: auto; margin:0; padding: 0}\n",
       ".dl-inline>dt, .dl-inline>dd {float: none; width: auto; display: inline-block}\n",
       ".dl-inline>dt::after {content: \":\\0020\"; padding-right: .5ex}\n",
       ".dl-inline>dt:not(:first-of-type) {padding-left: .5ex}\n",
       "</style><dl class=dl-inline><dt>Sepal.Length</dt><dd>5.94146341463415</dd><dt>Sepal.Width</dt><dd>2.7780487804878</dd></dl>\n",
       "</dd>\n",
       "\t<dt>$virginica</dt>\n",
       "\t\t<dd><style>\n",
       ".dl-inline {width: auto; margin:0; padding: 0}\n",
       ".dl-inline>dt, .dl-inline>dd {float: none; width: auto; display: inline-block}\n",
       ".dl-inline>dt::after {content: \":\\0020\"; padding-right: .5ex}\n",
       ".dl-inline>dt:not(:first-of-type) {padding-left: .5ex}\n",
       "</style><dl class=dl-inline><dt>Sepal.Length</dt><dd>6.54615384615385</dd><dt>Sepal.Width</dt><dd>2.96923076923077</dd></dl>\n",
       "</dd>\n",
       "</dl>\n"
      ],
      "text/latex": [
       "\\begin{description}\n",
       "\\item[\\$setosa] \\begin{description*}\n",
       "\\item[Sepal.Length] 5.06341463414634\n",
       "\\item[Sepal.Width] 3.46585365853659\n",
       "\\end{description*}\n",
       "\n",
       "\\item[\\$versicolor] \\begin{description*}\n",
       "\\item[Sepal.Length] 5.94146341463415\n",
       "\\item[Sepal.Width] 2.7780487804878\n",
       "\\end{description*}\n",
       "\n",
       "\\item[\\$virginica] \\begin{description*}\n",
       "\\item[Sepal.Length] 6.54615384615385\n",
       "\\item[Sepal.Width] 2.96923076923077\n",
       "\\end{description*}\n",
       "\n",
       "\\end{description}\n"
      ],
      "text/markdown": [
       "$setosa\n",
       ":   Sepal.Length\n",
       ":   5.06341463414634Sepal.Width\n",
       ":   3.46585365853659\n",
       "\n",
       "\n",
       "$versicolor\n",
       ":   Sepal.Length\n",
       ":   5.94146341463415Sepal.Width\n",
       ":   2.7780487804878\n",
       "\n",
       "\n",
       "$virginica\n",
       ":   Sepal.Length\n",
       ":   6.54615384615385Sepal.Width\n",
       ":   2.96923076923077\n",
       "\n",
       "\n",
       "\n",
       "\n"
      ],
      "text/plain": [
       "$setosa\n",
       "Sepal.Length  Sepal.Width \n",
       "    5.063415     3.465854 \n",
       "\n",
       "$versicolor\n",
       "Sepal.Length  Sepal.Width \n",
       "    5.941463     2.778049 \n",
       "\n",
       "$virginica\n",
       "Sepal.Length  Sepal.Width \n",
       "    6.546154     2.969231 \n"
      ]
     },
     "metadata": {},
     "output_type": "display_data"
    }
   ],
   "source": [
    "#Medias de Sepal Length y Sepal Width\n",
    "medias_swsl <- list()\n",
    "for(i in clases){\n",
    "    medias_swsl[[i]] <- media(iris_train,iris_train$Species,v_ind[1:2],i)\n",
    "}\n",
    "medias_swsl"
   ]
  },
  {
   "cell_type": "code",
   "execution_count": 12,
   "metadata": {},
   "outputs": [
    {
     "data": {
      "text/html": [
       "<dl>\n",
       "\t<dt>$setosa</dt>\n",
       "\t\t<dd><style>\n",
       ".dl-inline {width: auto; margin:0; padding: 0}\n",
       ".dl-inline>dt, .dl-inline>dd {float: none; width: auto; display: inline-block}\n",
       ".dl-inline>dt::after {content: \":\\0020\"; padding-right: .5ex}\n",
       ".dl-inline>dt:not(:first-of-type) {padding-left: .5ex}\n",
       "</style><dl class=dl-inline><dt>Sepal.Width</dt><dd>3.46585365853659</dd><dt>Petal.Length</dt><dd>1.49024390243902</dd><dt>Petal.Width</dt><dd>0.248780487804878</dd></dl>\n",
       "</dd>\n",
       "\t<dt>$versicolor</dt>\n",
       "\t\t<dd><style>\n",
       ".dl-inline {width: auto; margin:0; padding: 0}\n",
       ".dl-inline>dt, .dl-inline>dd {float: none; width: auto; display: inline-block}\n",
       ".dl-inline>dt::after {content: \":\\0020\"; padding-right: .5ex}\n",
       ".dl-inline>dt:not(:first-of-type) {padding-left: .5ex}\n",
       "</style><dl class=dl-inline><dt>Sepal.Width</dt><dd>2.7780487804878</dd><dt>Petal.Length</dt><dd>4.27073170731707</dd><dt>Petal.Width</dt><dd>1.33170731707317</dd></dl>\n",
       "</dd>\n",
       "\t<dt>$virginica</dt>\n",
       "\t\t<dd><style>\n",
       ".dl-inline {width: auto; margin:0; padding: 0}\n",
       ".dl-inline>dt, .dl-inline>dd {float: none; width: auto; display: inline-block}\n",
       ".dl-inline>dt::after {content: \":\\0020\"; padding-right: .5ex}\n",
       ".dl-inline>dt:not(:first-of-type) {padding-left: .5ex}\n",
       "</style><dl class=dl-inline><dt>Sepal.Width</dt><dd>2.96923076923077</dd><dt>Petal.Length</dt><dd>5.51282051282051</dd><dt>Petal.Width</dt><dd>2.02564102564103</dd></dl>\n",
       "</dd>\n",
       "</dl>\n"
      ],
      "text/latex": [
       "\\begin{description}\n",
       "\\item[\\$setosa] \\begin{description*}\n",
       "\\item[Sepal.Width] 3.46585365853659\n",
       "\\item[Petal.Length] 1.49024390243902\n",
       "\\item[Petal.Width] 0.248780487804878\n",
       "\\end{description*}\n",
       "\n",
       "\\item[\\$versicolor] \\begin{description*}\n",
       "\\item[Sepal.Width] 2.7780487804878\n",
       "\\item[Petal.Length] 4.27073170731707\n",
       "\\item[Petal.Width] 1.33170731707317\n",
       "\\end{description*}\n",
       "\n",
       "\\item[\\$virginica] \\begin{description*}\n",
       "\\item[Sepal.Width] 2.96923076923077\n",
       "\\item[Petal.Length] 5.51282051282051\n",
       "\\item[Petal.Width] 2.02564102564103\n",
       "\\end{description*}\n",
       "\n",
       "\\end{description}\n"
      ],
      "text/markdown": [
       "$setosa\n",
       ":   Sepal.Width\n",
       ":   3.46585365853659Petal.Length\n",
       ":   1.49024390243902Petal.Width\n",
       ":   0.248780487804878\n",
       "\n",
       "\n",
       "$versicolor\n",
       ":   Sepal.Width\n",
       ":   2.7780487804878Petal.Length\n",
       ":   4.27073170731707Petal.Width\n",
       ":   1.33170731707317\n",
       "\n",
       "\n",
       "$virginica\n",
       ":   Sepal.Width\n",
       ":   2.96923076923077Petal.Length\n",
       ":   5.51282051282051Petal.Width\n",
       ":   2.02564102564103\n",
       "\n",
       "\n",
       "\n",
       "\n"
      ],
      "text/plain": [
       "$setosa\n",
       " Sepal.Width Petal.Length  Petal.Width \n",
       "   3.4658537    1.4902439    0.2487805 \n",
       "\n",
       "$versicolor\n",
       " Sepal.Width Petal.Length  Petal.Width \n",
       "    2.778049     4.270732     1.331707 \n",
       "\n",
       "$virginica\n",
       " Sepal.Width Petal.Length  Petal.Width \n",
       "    2.969231     5.512821     2.025641 \n"
      ]
     },
     "metadata": {},
     "output_type": "display_data"
    }
   ],
   "source": [
    "#Medias de Sepal Length y Sepal Width\n",
    "medias_swplpw <- list()\n",
    "for(i in clases){\n",
    "    medias_swplpw[[i]] <- media(iris_train,iris_train$Species,v_ind[2:4],i)\n",
    "}\n",
    "medias_swplpw"
   ]
  },
  {
   "cell_type": "markdown",
   "metadata": {},
   "source": [
    "## 3.varianza y covarianza \n",
    "\n",
    "$$ \\hat{\\sigma}^2 = \\sum_{k=1}^{K} \\frac{(n_{k}-1)}{n-K} \\frac{1}{(n_{k}-1)} \\sum_{i:y_{i}=k} (x_{i}-\\hat{\\mu}_{k})^2$$"
   ]
  },
  {
   "cell_type": "code",
   "execution_count": 13,
   "metadata": {},
   "outputs": [],
   "source": [
    "var.covar<-function(df,columna,lista,clase){\n",
    "    #La función resive como parámetros un dataframe con los datos, \n",
    "    #la columna en la que están los datos a clasificar, las clases del dataframe y\n",
    "    #una lista con los valores independientes\n",
    "    #clase recibe un vector con las tres clases \n",
    "    #lista recibe las variables independientes\n",
    "    n <- c()\n",
    "    varianza <- c()\n",
    "    covarianza <- list()\n",
    "    \n",
    "    for (i in 1:length(clase)){\n",
    "        n[i]<- nrow(filter(df,columna==clase[i])) \n",
    "    }\n",
    "    if(length(lista)==1){\n",
    "        for(i in 1:length(clase)){\n",
    "            aux <- df %>% filter(columna==clase[i]) %>%\n",
    "                select(lista) %>%\n",
    "                var()\n",
    "            varianza[i] <- aux[[1]]\n",
    "            }#EndFor Lista==1\n",
    "        result <- (1/(nrow(df)-length(clase)))*((n[1]-1)*varianza[1]+(n[2]-1)*varianza[2]+(n[3]-1)*varianza[3])\n",
    "        #names(result) <- clase\n",
    "    }#EndIf Lista ==1\n",
    "    else{\n",
    "        for(i in 1:length(clase)){\n",
    "            covarianza[[i]] <- df %>% filter(columna==clase[i]) %>%\n",
    "                select(lista) %>%\n",
    "                cov()\n",
    "        }\n",
    "        result <- (1/(nrow(df)-length(clase)))*((n[1]-1)*covarianza[[1]]+(n[2]-1)*covarianza[[2]]+(n[3]-1)*covarianza[[3]])\n",
    "        #result <- (1/(nrow(df)-length(clase)))\n",
    "    }\n",
    "    return(result)\n",
    "}"
   ]
  },
  {
   "cell_type": "code",
   "execution_count": 14,
   "metadata": {},
   "outputs": [],
   "source": [
    "varianza_sl <- var.covar(iris_train,iris_train$Species,v_ind[1],clases)\n",
    "varianza_sw <- var.covar(iris_train,iris_train$Species,v_ind[2],clases)\n",
    "varianza_pl <- var.covar(iris_train,iris_train$Species,v_ind[3],clases)\n",
    "varianza_pw <- var.covar(iris_train,iris_train$Species,v_ind[4],clases)\n",
    "varianzas_l <- list(varianza_sl, varianza_sw, varianza_pl, varianza_pw)\n",
    "names(varianzas_l)<- v_ind"
   ]
  },
  {
   "cell_type": "code",
   "execution_count": 15,
   "metadata": {},
   "outputs": [
    {
     "data": {
      "text/html": [
       "<dl>\n",
       "\t<dt>$Sepal.Length</dt>\n",
       "\t\t<dd>0.250945400197157</dd>\n",
       "\t<dt>$Sepal.Width</dt>\n",
       "\t\t<dd>0.121063694470061</dd>\n",
       "\t<dt>$Petal.Length</dt>\n",
       "\t\t<dd>0.170547164011405</dd>\n",
       "\t<dt>$Petal.Width</dt>\n",
       "\t\t<dd>0.0454710041233398</dd>\n",
       "</dl>\n"
      ],
      "text/latex": [
       "\\begin{description}\n",
       "\\item[\\$Sepal.Length] 0.250945400197157\n",
       "\\item[\\$Sepal.Width] 0.121063694470061\n",
       "\\item[\\$Petal.Length] 0.170547164011405\n",
       "\\item[\\$Petal.Width] 0.0454710041233398\n",
       "\\end{description}\n"
      ],
      "text/markdown": [
       "$Sepal.Length\n",
       ":   0.250945400197157\n",
       "$Sepal.Width\n",
       ":   0.121063694470061\n",
       "$Petal.Length\n",
       ":   0.170547164011405\n",
       "$Petal.Width\n",
       ":   0.0454710041233398\n",
       "\n",
       "\n"
      ],
      "text/plain": [
       "$Sepal.Length\n",
       "[1] 0.2509454\n",
       "\n",
       "$Sepal.Width\n",
       "[1] 0.1210637\n",
       "\n",
       "$Petal.Length\n",
       "[1] 0.1705472\n",
       "\n",
       "$Petal.Width\n",
       "[1] 0.045471\n"
      ]
     },
     "metadata": {},
     "output_type": "display_data"
    }
   ],
   "source": [
    "varianzas_l"
   ]
  },
  {
   "cell_type": "code",
   "execution_count": 16,
   "metadata": {},
   "outputs": [
    {
     "data": {
      "text/html": [
       "<table>\n",
       "<caption>A matrix: 2 × 2 of type dbl</caption>\n",
       "<thead>\n",
       "\t<tr><th></th><th scope=col>Petal.Length</th><th scope=col>Petal.Width</th></tr>\n",
       "</thead>\n",
       "<tbody>\n",
       "\t<tr><th scope=row>Petal.Length</th><td>0.17054716</td><td>0.04139611</td></tr>\n",
       "\t<tr><th scope=row>Petal.Width</th><td>0.04139611</td><td>0.04547100</td></tr>\n",
       "</tbody>\n",
       "</table>\n"
      ],
      "text/latex": [
       "A matrix: 2 × 2 of type dbl\n",
       "\\begin{tabular}{r|ll}\n",
       "  & Petal.Length & Petal.Width\\\\\n",
       "\\hline\n",
       "\tPetal.Length & 0.17054716 & 0.04139611\\\\\n",
       "\tPetal.Width & 0.04139611 & 0.04547100\\\\\n",
       "\\end{tabular}\n"
      ],
      "text/markdown": [
       "\n",
       "A matrix: 2 × 2 of type dbl\n",
       "\n",
       "| <!--/--> | Petal.Length | Petal.Width |\n",
       "|---|---|---|\n",
       "| Petal.Length | 0.17054716 | 0.04139611 |\n",
       "| Petal.Width | 0.04139611 | 0.04547100 |\n",
       "\n"
      ],
      "text/plain": [
       "             Petal.Length Petal.Width\n",
       "Petal.Length 0.17054716   0.04139611 \n",
       "Petal.Width  0.04139611   0.04547100 "
      ]
     },
     "metadata": {},
     "output_type": "display_data"
    }
   ],
   "source": [
    "#Probamos la función de varianzas y covarianzas para los palores de Petal length y pethal width\n",
    "covarianzas_plpw <- var.covar(iris_train,iris_train$Species,v_ind[3:4],clases)\n",
    "covarianzas_plpw"
   ]
  },
  {
   "cell_type": "code",
   "execution_count": 17,
   "metadata": {},
   "outputs": [
    {
     "data": {
      "text/html": [
       "<table>\n",
       "<caption>A matrix: 2 × 2 of type dbl</caption>\n",
       "<thead>\n",
       "\t<tr><th></th><th scope=col>Sepal.Length</th><th scope=col>Sepal.Width</th></tr>\n",
       "</thead>\n",
       "<tbody>\n",
       "\t<tr><th scope=row>Sepal.Length</th><td>0.25094540</td><td>0.09102951</td></tr>\n",
       "\t<tr><th scope=row>Sepal.Width</th><td>0.09102951</td><td>0.12106369</td></tr>\n",
       "</tbody>\n",
       "</table>\n"
      ],
      "text/latex": [
       "A matrix: 2 × 2 of type dbl\n",
       "\\begin{tabular}{r|ll}\n",
       "  & Sepal.Length & Sepal.Width\\\\\n",
       "\\hline\n",
       "\tSepal.Length & 0.25094540 & 0.09102951\\\\\n",
       "\tSepal.Width & 0.09102951 & 0.12106369\\\\\n",
       "\\end{tabular}\n"
      ],
      "text/markdown": [
       "\n",
       "A matrix: 2 × 2 of type dbl\n",
       "\n",
       "| <!--/--> | Sepal.Length | Sepal.Width |\n",
       "|---|---|---|\n",
       "| Sepal.Length | 0.25094540 | 0.09102951 |\n",
       "| Sepal.Width | 0.09102951 | 0.12106369 |\n",
       "\n"
      ],
      "text/plain": [
       "             Sepal.Length Sepal.Width\n",
       "Sepal.Length 0.25094540   0.09102951 \n",
       "Sepal.Width  0.09102951   0.12106369 "
      ]
     },
     "metadata": {},
     "output_type": "display_data"
    }
   ],
   "source": [
    "#Probamos la función de varianzas y covarianzas para los palores de Sepal length y Sepal width\n",
    "covarianzas_slsw <- var.covar(iris_train,iris_train$Species,v_ind[1:2],clases)\n",
    "covarianzas_slsw"
   ]
  },
  {
   "cell_type": "code",
   "execution_count": 18,
   "metadata": {},
   "outputs": [
    {
     "data": {
      "text/html": [
       "<table>\n",
       "<caption>A matrix: 3 × 3 of type dbl</caption>\n",
       "<thead>\n",
       "\t<tr><th></th><th scope=col>Sepal.Width</th><th scope=col>Petal.Length</th><th scope=col>Petal.Width</th></tr>\n",
       "</thead>\n",
       "<tbody>\n",
       "\t<tr><th scope=row>Sepal.Width</th><td>0.1210637</td><td>0.04979140</td><td>0.03303050</td></tr>\n",
       "\t<tr><th scope=row>Petal.Length</th><td>0.0497914</td><td>0.17054716</td><td>0.04139611</td></tr>\n",
       "\t<tr><th scope=row>Petal.Width</th><td>0.0330305</td><td>0.04139611</td><td>0.04547100</td></tr>\n",
       "</tbody>\n",
       "</table>\n"
      ],
      "text/latex": [
       "A matrix: 3 × 3 of type dbl\n",
       "\\begin{tabular}{r|lll}\n",
       "  & Sepal.Width & Petal.Length & Petal.Width\\\\\n",
       "\\hline\n",
       "\tSepal.Width & 0.1210637 & 0.04979140 & 0.03303050\\\\\n",
       "\tPetal.Length & 0.0497914 & 0.17054716 & 0.04139611\\\\\n",
       "\tPetal.Width & 0.0330305 & 0.04139611 & 0.04547100\\\\\n",
       "\\end{tabular}\n"
      ],
      "text/markdown": [
       "\n",
       "A matrix: 3 × 3 of type dbl\n",
       "\n",
       "| <!--/--> | Sepal.Width | Petal.Length | Petal.Width |\n",
       "|---|---|---|---|\n",
       "| Sepal.Width | 0.1210637 | 0.04979140 | 0.03303050 |\n",
       "| Petal.Length | 0.0497914 | 0.17054716 | 0.04139611 |\n",
       "| Petal.Width | 0.0330305 | 0.04139611 | 0.04547100 |\n",
       "\n"
      ],
      "text/plain": [
       "             Sepal.Width Petal.Length Petal.Width\n",
       "Sepal.Width  0.1210637   0.04979140   0.03303050 \n",
       "Petal.Length 0.0497914   0.17054716   0.04139611 \n",
       "Petal.Width  0.0330305   0.04139611   0.04547100 "
      ]
     },
     "metadata": {},
     "output_type": "display_data"
    }
   ],
   "source": [
    "#Probamos la función de varianzas y covarianzas para los palores de Sepal length y Sepal width\n",
    "covarianzas_swplpw <- var.covar(iris_train,iris_train$Species,v_ind[2:4],clases)\n",
    "covarianzas_swplpw"
   ]
  },
  {
   "cell_type": "markdown",
   "metadata": {},
   "source": [
    "## 4.delta\n",
    "\n",
    "$$\\delta_{k}(x) = \\frac{x \\mu_{k}}{\\sigma ^2} - \\frac{\\mu_{k}^2}{2\\sigma^2} + ln(\\pi_{k}) $$"
   ]
  },
  {
   "cell_type": "code",
   "execution_count": 19,
   "metadata": {},
   "outputs": [],
   "source": [
    "delta<-function(x,apriori_k,mean_k,var_k){\n",
    "    #X el valor o valores a clasificar (dependiendo cuantas sean las v.ind)\n",
    "    #apriori_k el apriori de una clase \n",
    "    #mean_k media de una clase \n",
    "    #var_k varianza y covarianza de una clase \n",
    "    if(length(var_k)==1){\n",
    "        \n",
    "         aux<- x*mean_k/var_k - mean_k^2/(2*var_k) +log(apriori_k)\n",
    "        valor_delta <- aux[[1]]\n",
    "    }else{\n",
    "\n",
    "        aux <- t(x) %*% solve(var_k) %*%  as.vector(mean_k) - 1/2 * t(as.vector(mean_k)) %*% solve(var_k) %*% as.vector(mean_k) +log(apriori_k)\n",
    "        valor_delta <- aux[1,1]\n",
    "    }\n",
    "    return(valor_delta)\n",
    "}"
   ]
  },
  {
   "cell_type": "code",
   "execution_count": 20,
   "metadata": {},
   "outputs": [
    {
     "data": {
      "text/html": [
       "48.7214012816965"
      ],
      "text/latex": [
       "48.7214012816965"
      ],
      "text/markdown": [
       "48.7214012816965"
      ],
      "text/plain": [
       "[1] 48.7214"
      ]
     },
     "metadata": {},
     "output_type": "display_data"
    }
   ],
   "source": [
    "delta(5,aprioris[1],medias_sl[1],varianza_sl)"
   ]
  },
  {
   "cell_type": "code",
   "execution_count": 21,
   "metadata": {},
   "outputs": [
    {
     "data": {
      "text/html": [
       "7.9563725084802"
      ],
      "text/latex": [
       "7.9563725084802"
      ],
      "text/markdown": [
       "7.9563725084802"
      ],
      "text/plain": [
       "[1] 7.956373"
      ]
     },
     "metadata": {},
     "output_type": "display_data"
    }
   ],
   "source": [
    "delta(c(4,7),aprioris[1], medias_pwpl[[1]],covarianzas_plpw )"
   ]
  },
  {
   "cell_type": "markdown",
   "metadata": {},
   "source": [
    "# 5.Clasifica\n",
    "\n",
    "recibe un data frame/tibble de un renglon, donde los nombres de las columnas son los nombres de las variables independientes. "
   ]
  },
  {
   "cell_type": "code",
   "execution_count": 22,
   "metadata": {},
   "outputs": [],
   "source": [
    "clasifica<-function(x, medias_l, varianza_l, delta = delta,aprioris = aprioris, clases=clases){\n",
    "    #x es un vector donde la cantidad de columnas es la cantidad de variables independientes\n",
    "    #medias_l[[v_ind[1]]][clases[i]]\n",
    "    delta_v <- c()\n",
    "   for ( i in 1:length(clases)){\n",
    "        delta_v[i] <- delta(x,aprioris[i],medias_l[[i]],varianza_l)    }\n",
    "    names(delta_v)<- clases\n",
    "    result <- names(delta_v[which.max(delta_v)])\n",
    "    return(result)\n",
    "    }"
   ]
  },
  {
   "cell_type": "code",
   "execution_count": 23,
   "metadata": {},
   "outputs": [
    {
     "data": {
      "text/html": [
       "'virginica'"
      ],
      "text/latex": [
       "'virginica'"
      ],
      "text/markdown": [
       "'virginica'"
      ],
      "text/plain": [
       "[1] \"virginica\""
      ]
     },
     "metadata": {},
     "output_type": "display_data"
    }
   ],
   "source": [
    "#Probamos la función con el parámetro de Petal Width\n",
    "clasifica(4, medias_pw, varianza_pw, delta = delta,aprioris = aprioris, clases=clases)"
   ]
  },
  {
   "cell_type": "code",
   "execution_count": 24,
   "metadata": {},
   "outputs": [
    {
     "data": {
      "text/html": [
       "'virginica'"
      ],
      "text/latex": [
       "'virginica'"
      ],
      "text/markdown": [
       "'virginica'"
      ],
      "text/plain": [
       "[1] \"virginica\""
      ]
     },
     "metadata": {},
     "output_type": "display_data"
    }
   ],
   "source": [
    "#Probamos la función con los parámetros de Pethal Width y Pethal Length\n",
    "clasifica(c(4,5), medias_pwpl, covarianzas_plpw, delta = delta,aprioris = aprioris, clases=clases)"
   ]
  },
  {
   "cell_type": "markdown",
   "metadata": {},
   "source": [
    "Vamos a probar las funciones en conjunto con los datos de prueba, para esto vamos probar primero el caso univariado con la variable independiente Sepal Length"
   ]
  },
  {
   "cell_type": "code",
   "execution_count": 25,
   "metadata": {},
   "outputs": [
    {
     "data": {
      "text/html": [
       "<table>\n",
       "<caption>A data.frame: 29 × 7</caption>\n",
       "<thead>\n",
       "\t<tr><th scope=col>Sepal.Length</th><th scope=col>Sepal.Width</th><th scope=col>Petal.Length</th><th scope=col>Petal.Width</th><th scope=col>Species</th><th scope=col>test_Sepal.Length</th><th scope=col>clasifica_bien</th></tr>\n",
       "\t<tr><th scope=col>&lt;dbl&gt;</th><th scope=col>&lt;dbl&gt;</th><th scope=col>&lt;dbl&gt;</th><th scope=col>&lt;dbl&gt;</th><th scope=col>&lt;fct&gt;</th><th scope=col>&lt;fct&gt;</th><th scope=col>&lt;lgl&gt;</th></tr>\n",
       "</thead>\n",
       "<tbody>\n",
       "\t<tr><td>4.6</td><td>3.4</td><td>1.4</td><td>0.3</td><td>setosa    </td><td>setosa    </td><td> TRUE</td></tr>\n",
       "\t<tr><td>4.4</td><td>2.9</td><td>1.4</td><td>0.2</td><td>setosa    </td><td>setosa    </td><td> TRUE</td></tr>\n",
       "\t<tr><td>4.3</td><td>3.0</td><td>1.1</td><td>0.1</td><td>setosa    </td><td>setosa    </td><td> TRUE</td></tr>\n",
       "\t<tr><td>4.6</td><td>3.6</td><td>1.0</td><td>0.2</td><td>setosa    </td><td>setosa    </td><td> TRUE</td></tr>\n",
       "\t<tr><td>5.0</td><td>3.0</td><td>1.6</td><td>0.2</td><td>setosa    </td><td>setosa    </td><td> TRUE</td></tr>\n",
       "\t<tr><td>5.4</td><td>3.4</td><td>1.5</td><td>0.4</td><td>setosa    </td><td>setosa    </td><td> TRUE</td></tr>\n",
       "\t<tr><td>5.0</td><td>3.5</td><td>1.3</td><td>0.3</td><td>setosa    </td><td>setosa    </td><td> TRUE</td></tr>\n",
       "\t<tr><td>4.4</td><td>3.2</td><td>1.3</td><td>0.2</td><td>setosa    </td><td>setosa    </td><td> TRUE</td></tr>\n",
       "\t<tr><td>5.0</td><td>3.3</td><td>1.4</td><td>0.2</td><td>setosa    </td><td>setosa    </td><td> TRUE</td></tr>\n",
       "\t<tr><td>6.1</td><td>2.8</td><td>4.0</td><td>1.3</td><td>versicolor</td><td>versicolor</td><td> TRUE</td></tr>\n",
       "\t<tr><td>6.1</td><td>2.8</td><td>4.7</td><td>1.2</td><td>versicolor</td><td>versicolor</td><td> TRUE</td></tr>\n",
       "\t<tr><td>6.6</td><td>3.0</td><td>4.4</td><td>1.4</td><td>versicolor</td><td>virginica </td><td>FALSE</td></tr>\n",
       "\t<tr><td>6.7</td><td>3.0</td><td>5.0</td><td>1.7</td><td>versicolor</td><td>virginica </td><td>FALSE</td></tr>\n",
       "\t<tr><td>5.5</td><td>2.4</td><td>3.8</td><td>1.1</td><td>versicolor</td><td>setosa    </td><td>FALSE</td></tr>\n",
       "\t<tr><td>5.5</td><td>2.5</td><td>4.0</td><td>1.3</td><td>versicolor</td><td>setosa    </td><td>FALSE</td></tr>\n",
       "\t<tr><td>5.5</td><td>2.6</td><td>4.4</td><td>1.2</td><td>versicolor</td><td>setosa    </td><td>FALSE</td></tr>\n",
       "\t<tr><td>6.1</td><td>3.0</td><td>4.6</td><td>1.4</td><td>versicolor</td><td>versicolor</td><td> TRUE</td></tr>\n",
       "\t<tr><td>5.1</td><td>2.5</td><td>3.0</td><td>1.1</td><td>versicolor</td><td>setosa    </td><td>FALSE</td></tr>\n",
       "\t<tr><td>7.1</td><td>3.0</td><td>5.9</td><td>2.1</td><td>virginica </td><td>virginica </td><td> TRUE</td></tr>\n",
       "\t<tr><td>7.6</td><td>3.0</td><td>6.6</td><td>2.1</td><td>virginica </td><td>virginica </td><td> TRUE</td></tr>\n",
       "\t<tr><td>6.7</td><td>2.5</td><td>5.8</td><td>1.8</td><td>virginica </td><td>virginica </td><td> TRUE</td></tr>\n",
       "\t<tr><td>6.5</td><td>3.0</td><td>5.5</td><td>1.8</td><td>virginica </td><td>virginica </td><td> TRUE</td></tr>\n",
       "\t<tr><td>7.7</td><td>3.8</td><td>6.7</td><td>2.2</td><td>virginica </td><td>virginica </td><td> TRUE</td></tr>\n",
       "\t<tr><td>7.7</td><td>3.0</td><td>6.1</td><td>2.3</td><td>virginica </td><td>virginica </td><td> TRUE</td></tr>\n",
       "\t<tr><td>6.3</td><td>3.4</td><td>5.6</td><td>2.4</td><td>virginica </td><td>virginica </td><td> TRUE</td></tr>\n",
       "\t<tr><td>5.8</td><td>2.7</td><td>5.1</td><td>1.9</td><td>virginica </td><td>versicolor</td><td>FALSE</td></tr>\n",
       "\t<tr><td>6.3</td><td>2.5</td><td>5.0</td><td>1.9</td><td>virginica </td><td>virginica </td><td> TRUE</td></tr>\n",
       "\t<tr><td>6.5</td><td>3.0</td><td>5.2</td><td>2.0</td><td>virginica </td><td>virginica </td><td> TRUE</td></tr>\n",
       "\t<tr><td>5.9</td><td>3.0</td><td>5.1</td><td>1.8</td><td>virginica </td><td>versicolor</td><td>FALSE</td></tr>\n",
       "</tbody>\n",
       "</table>\n"
      ],
      "text/latex": [
       "A data.frame: 29 × 7\n",
       "\\begin{tabular}{lllllll}\n",
       " Sepal.Length & Sepal.Width & Petal.Length & Petal.Width & Species & test\\_Sepal.Length & clasifica\\_bien\\\\\n",
       " <dbl> & <dbl> & <dbl> & <dbl> & <fct> & <fct> & <lgl>\\\\\n",
       "\\hline\n",
       "\t 4.6 & 3.4 & 1.4 & 0.3 & setosa     & setosa     &  TRUE\\\\\n",
       "\t 4.4 & 2.9 & 1.4 & 0.2 & setosa     & setosa     &  TRUE\\\\\n",
       "\t 4.3 & 3.0 & 1.1 & 0.1 & setosa     & setosa     &  TRUE\\\\\n",
       "\t 4.6 & 3.6 & 1.0 & 0.2 & setosa     & setosa     &  TRUE\\\\\n",
       "\t 5.0 & 3.0 & 1.6 & 0.2 & setosa     & setosa     &  TRUE\\\\\n",
       "\t 5.4 & 3.4 & 1.5 & 0.4 & setosa     & setosa     &  TRUE\\\\\n",
       "\t 5.0 & 3.5 & 1.3 & 0.3 & setosa     & setosa     &  TRUE\\\\\n",
       "\t 4.4 & 3.2 & 1.3 & 0.2 & setosa     & setosa     &  TRUE\\\\\n",
       "\t 5.0 & 3.3 & 1.4 & 0.2 & setosa     & setosa     &  TRUE\\\\\n",
       "\t 6.1 & 2.8 & 4.0 & 1.3 & versicolor & versicolor &  TRUE\\\\\n",
       "\t 6.1 & 2.8 & 4.7 & 1.2 & versicolor & versicolor &  TRUE\\\\\n",
       "\t 6.6 & 3.0 & 4.4 & 1.4 & versicolor & virginica  & FALSE\\\\\n",
       "\t 6.7 & 3.0 & 5.0 & 1.7 & versicolor & virginica  & FALSE\\\\\n",
       "\t 5.5 & 2.4 & 3.8 & 1.1 & versicolor & setosa     & FALSE\\\\\n",
       "\t 5.5 & 2.5 & 4.0 & 1.3 & versicolor & setosa     & FALSE\\\\\n",
       "\t 5.5 & 2.6 & 4.4 & 1.2 & versicolor & setosa     & FALSE\\\\\n",
       "\t 6.1 & 3.0 & 4.6 & 1.4 & versicolor & versicolor &  TRUE\\\\\n",
       "\t 5.1 & 2.5 & 3.0 & 1.1 & versicolor & setosa     & FALSE\\\\\n",
       "\t 7.1 & 3.0 & 5.9 & 2.1 & virginica  & virginica  &  TRUE\\\\\n",
       "\t 7.6 & 3.0 & 6.6 & 2.1 & virginica  & virginica  &  TRUE\\\\\n",
       "\t 6.7 & 2.5 & 5.8 & 1.8 & virginica  & virginica  &  TRUE\\\\\n",
       "\t 6.5 & 3.0 & 5.5 & 1.8 & virginica  & virginica  &  TRUE\\\\\n",
       "\t 7.7 & 3.8 & 6.7 & 2.2 & virginica  & virginica  &  TRUE\\\\\n",
       "\t 7.7 & 3.0 & 6.1 & 2.3 & virginica  & virginica  &  TRUE\\\\\n",
       "\t 6.3 & 3.4 & 5.6 & 2.4 & virginica  & virginica  &  TRUE\\\\\n",
       "\t 5.8 & 2.7 & 5.1 & 1.9 & virginica  & versicolor & FALSE\\\\\n",
       "\t 6.3 & 2.5 & 5.0 & 1.9 & virginica  & virginica  &  TRUE\\\\\n",
       "\t 6.5 & 3.0 & 5.2 & 2.0 & virginica  & virginica  &  TRUE\\\\\n",
       "\t 5.9 & 3.0 & 5.1 & 1.8 & virginica  & versicolor & FALSE\\\\\n",
       "\\end{tabular}\n"
      ],
      "text/markdown": [
       "\n",
       "A data.frame: 29 × 7\n",
       "\n",
       "| Sepal.Length &lt;dbl&gt; | Sepal.Width &lt;dbl&gt; | Petal.Length &lt;dbl&gt; | Petal.Width &lt;dbl&gt; | Species &lt;fct&gt; | test_Sepal.Length &lt;fct&gt; | clasifica_bien &lt;lgl&gt; |\n",
       "|---|---|---|---|---|---|---|\n",
       "| 4.6 | 3.4 | 1.4 | 0.3 | setosa     | setosa     |  TRUE |\n",
       "| 4.4 | 2.9 | 1.4 | 0.2 | setosa     | setosa     |  TRUE |\n",
       "| 4.3 | 3.0 | 1.1 | 0.1 | setosa     | setosa     |  TRUE |\n",
       "| 4.6 | 3.6 | 1.0 | 0.2 | setosa     | setosa     |  TRUE |\n",
       "| 5.0 | 3.0 | 1.6 | 0.2 | setosa     | setosa     |  TRUE |\n",
       "| 5.4 | 3.4 | 1.5 | 0.4 | setosa     | setosa     |  TRUE |\n",
       "| 5.0 | 3.5 | 1.3 | 0.3 | setosa     | setosa     |  TRUE |\n",
       "| 4.4 | 3.2 | 1.3 | 0.2 | setosa     | setosa     |  TRUE |\n",
       "| 5.0 | 3.3 | 1.4 | 0.2 | setosa     | setosa     |  TRUE |\n",
       "| 6.1 | 2.8 | 4.0 | 1.3 | versicolor | versicolor |  TRUE |\n",
       "| 6.1 | 2.8 | 4.7 | 1.2 | versicolor | versicolor |  TRUE |\n",
       "| 6.6 | 3.0 | 4.4 | 1.4 | versicolor | virginica  | FALSE |\n",
       "| 6.7 | 3.0 | 5.0 | 1.7 | versicolor | virginica  | FALSE |\n",
       "| 5.5 | 2.4 | 3.8 | 1.1 | versicolor | setosa     | FALSE |\n",
       "| 5.5 | 2.5 | 4.0 | 1.3 | versicolor | setosa     | FALSE |\n",
       "| 5.5 | 2.6 | 4.4 | 1.2 | versicolor | setosa     | FALSE |\n",
       "| 6.1 | 3.0 | 4.6 | 1.4 | versicolor | versicolor |  TRUE |\n",
       "| 5.1 | 2.5 | 3.0 | 1.1 | versicolor | setosa     | FALSE |\n",
       "| 7.1 | 3.0 | 5.9 | 2.1 | virginica  | virginica  |  TRUE |\n",
       "| 7.6 | 3.0 | 6.6 | 2.1 | virginica  | virginica  |  TRUE |\n",
       "| 6.7 | 2.5 | 5.8 | 1.8 | virginica  | virginica  |  TRUE |\n",
       "| 6.5 | 3.0 | 5.5 | 1.8 | virginica  | virginica  |  TRUE |\n",
       "| 7.7 | 3.8 | 6.7 | 2.2 | virginica  | virginica  |  TRUE |\n",
       "| 7.7 | 3.0 | 6.1 | 2.3 | virginica  | virginica  |  TRUE |\n",
       "| 6.3 | 3.4 | 5.6 | 2.4 | virginica  | virginica  |  TRUE |\n",
       "| 5.8 | 2.7 | 5.1 | 1.9 | virginica  | versicolor | FALSE |\n",
       "| 6.3 | 2.5 | 5.0 | 1.9 | virginica  | virginica  |  TRUE |\n",
       "| 6.5 | 3.0 | 5.2 | 2.0 | virginica  | virginica  |  TRUE |\n",
       "| 5.9 | 3.0 | 5.1 | 1.8 | virginica  | versicolor | FALSE |\n",
       "\n"
      ],
      "text/plain": [
       "   Sepal.Length Sepal.Width Petal.Length Petal.Width Species   \n",
       "1  4.6          3.4         1.4          0.3         setosa    \n",
       "2  4.4          2.9         1.4          0.2         setosa    \n",
       "3  4.3          3.0         1.1          0.1         setosa    \n",
       "4  4.6          3.6         1.0          0.2         setosa    \n",
       "5  5.0          3.0         1.6          0.2         setosa    \n",
       "6  5.4          3.4         1.5          0.4         setosa    \n",
       "7  5.0          3.5         1.3          0.3         setosa    \n",
       "8  4.4          3.2         1.3          0.2         setosa    \n",
       "9  5.0          3.3         1.4          0.2         setosa    \n",
       "10 6.1          2.8         4.0          1.3         versicolor\n",
       "11 6.1          2.8         4.7          1.2         versicolor\n",
       "12 6.6          3.0         4.4          1.4         versicolor\n",
       "13 6.7          3.0         5.0          1.7         versicolor\n",
       "14 5.5          2.4         3.8          1.1         versicolor\n",
       "15 5.5          2.5         4.0          1.3         versicolor\n",
       "16 5.5          2.6         4.4          1.2         versicolor\n",
       "17 6.1          3.0         4.6          1.4         versicolor\n",
       "18 5.1          2.5         3.0          1.1         versicolor\n",
       "19 7.1          3.0         5.9          2.1         virginica \n",
       "20 7.6          3.0         6.6          2.1         virginica \n",
       "21 6.7          2.5         5.8          1.8         virginica \n",
       "22 6.5          3.0         5.5          1.8         virginica \n",
       "23 7.7          3.8         6.7          2.2         virginica \n",
       "24 7.7          3.0         6.1          2.3         virginica \n",
       "25 6.3          3.4         5.6          2.4         virginica \n",
       "26 5.8          2.7         5.1          1.9         virginica \n",
       "27 6.3          2.5         5.0          1.9         virginica \n",
       "28 6.5          3.0         5.2          2.0         virginica \n",
       "29 5.9          3.0         5.1          1.8         virginica \n",
       "   test_Sepal.Length clasifica_bien\n",
       "1  setosa             TRUE         \n",
       "2  setosa             TRUE         \n",
       "3  setosa             TRUE         \n",
       "4  setosa             TRUE         \n",
       "5  setosa             TRUE         \n",
       "6  setosa             TRUE         \n",
       "7  setosa             TRUE         \n",
       "8  setosa             TRUE         \n",
       "9  setosa             TRUE         \n",
       "10 versicolor         TRUE         \n",
       "11 versicolor         TRUE         \n",
       "12 virginica         FALSE         \n",
       "13 virginica         FALSE         \n",
       "14 setosa            FALSE         \n",
       "15 setosa            FALSE         \n",
       "16 setosa            FALSE         \n",
       "17 versicolor         TRUE         \n",
       "18 setosa            FALSE         \n",
       "19 virginica          TRUE         \n",
       "20 virginica          TRUE         \n",
       "21 virginica          TRUE         \n",
       "22 virginica          TRUE         \n",
       "23 virginica          TRUE         \n",
       "24 virginica          TRUE         \n",
       "25 virginica          TRUE         \n",
       "26 versicolor        FALSE         \n",
       "27 virginica          TRUE         \n",
       "28 virginica          TRUE         \n",
       "29 versicolor        FALSE         "
      ]
     },
     "metadata": {},
     "output_type": "display_data"
    }
   ],
   "source": [
    "x_sl<-iris_test[,c(\"Sepal.Length\"),drop=F]\n",
    "test_Sepal.Length <- apply(x_sl,1,FUN=clasifica, medias_l=medias_sl, varianza_l=varianza_sl,delta=delta, aprioris=aprioris, clases=clases)\n",
    "\n",
    "iris_test_Sepal.Length <- cbind(iris_test, test_Sepal.Length) %>% mutate(clasifica_bien = Species ==test_Sepal.Length)\n",
    "\n",
    "iris_test_Sepal.Length"
   ]
  },
  {
   "cell_type": "markdown",
   "metadata": {},
   "source": [
    "Podemos observar que tomando como variable independiente a \tSepal.Length no logra de clasificar de manera adecuada, procedemos a calcular la proporción de valores clasificados correctamente."
   ]
  },
  {
   "cell_type": "code",
   "execution_count": 26,
   "metadata": {},
   "outputs": [
    {
     "data": {
      "text/html": [
       "0.724137931034483"
      ],
      "text/latex": [
       "0.724137931034483"
      ],
      "text/markdown": [
       "0.724137931034483"
      ],
      "text/plain": [
       "[1] 0.7241379"
      ]
     },
     "metadata": {},
     "output_type": "display_data"
    }
   ],
   "source": [
    "iris_test_Sepal.Length %>% \n",
    "    filter(clasifica_bien==TRUE) %>% \n",
    "    nrow() /nrow(iris_test_Sepal.Length)"
   ]
  },
  {
   "cell_type": "markdown",
   "metadata": {},
   "source": [
    "Logramos obtener un ***72.41%*** de observaciones clasificadas de manera correcta. Esto se debe a que las clases no están bien separadas como se puede observar en la siguiente gráfica."
   ]
  },
  {
   "cell_type": "code",
   "execution_count": 27,
   "metadata": {},
   "outputs": [
    {
     "data": {
      "image/png": "[encoded data removed]",
      "text/plain": [
       "plot without title"
      ]
     },
     "metadata": {
      "image/png": {
       "height": 420,
       "width": 420
      }
     },
     "output_type": "display_data"
    }
   ],
   "source": [
    "ggplot(iris_train,aes(Sepal.Length,fill=Species))+\n",
    "  geom_histogram(bins=20)"
   ]
  },
  {
   "cell_type": "markdown",
   "metadata": {},
   "source": [
    "Como se observa en el histograma, las clases no están bien separadas.\n",
    "\n",
    "Ahora procedemos a probar con la variable Petal.Length."
   ]
  },
  {
   "cell_type": "code",
   "execution_count": 28,
   "metadata": {},
   "outputs": [
    {
     "data": {
      "text/html": [
       "<table>\n",
       "<caption>A data.frame: 29 × 7</caption>\n",
       "<thead>\n",
       "\t<tr><th scope=col>Sepal.Length</th><th scope=col>Sepal.Width</th><th scope=col>Petal.Length</th><th scope=col>Petal.Width</th><th scope=col>Species</th><th scope=col>test_Petal.Length</th><th scope=col>clasifica_bien</th></tr>\n",
       "\t<tr><th scope=col>&lt;dbl&gt;</th><th scope=col>&lt;dbl&gt;</th><th scope=col>&lt;dbl&gt;</th><th scope=col>&lt;dbl&gt;</th><th scope=col>&lt;fct&gt;</th><th scope=col>&lt;fct&gt;</th><th scope=col>&lt;lgl&gt;</th></tr>\n",
       "</thead>\n",
       "<tbody>\n",
       "\t<tr><td>4.6</td><td>3.4</td><td>1.4</td><td>0.3</td><td>setosa    </td><td>setosa    </td><td> TRUE</td></tr>\n",
       "\t<tr><td>4.4</td><td>2.9</td><td>1.4</td><td>0.2</td><td>setosa    </td><td>setosa    </td><td> TRUE</td></tr>\n",
       "\t<tr><td>4.3</td><td>3.0</td><td>1.1</td><td>0.1</td><td>setosa    </td><td>setosa    </td><td> TRUE</td></tr>\n",
       "\t<tr><td>4.6</td><td>3.6</td><td>1.0</td><td>0.2</td><td>setosa    </td><td>setosa    </td><td> TRUE</td></tr>\n",
       "\t<tr><td>5.0</td><td>3.0</td><td>1.6</td><td>0.2</td><td>setosa    </td><td>setosa    </td><td> TRUE</td></tr>\n",
       "\t<tr><td>5.4</td><td>3.4</td><td>1.5</td><td>0.4</td><td>setosa    </td><td>setosa    </td><td> TRUE</td></tr>\n",
       "\t<tr><td>5.0</td><td>3.5</td><td>1.3</td><td>0.3</td><td>setosa    </td><td>setosa    </td><td> TRUE</td></tr>\n",
       "\t<tr><td>4.4</td><td>3.2</td><td>1.3</td><td>0.2</td><td>setosa    </td><td>setosa    </td><td> TRUE</td></tr>\n",
       "\t<tr><td>5.0</td><td>3.3</td><td>1.4</td><td>0.2</td><td>setosa    </td><td>setosa    </td><td> TRUE</td></tr>\n",
       "\t<tr><td>6.1</td><td>2.8</td><td>4.0</td><td>1.3</td><td>versicolor</td><td>versicolor</td><td> TRUE</td></tr>\n",
       "\t<tr><td>6.1</td><td>2.8</td><td>4.7</td><td>1.2</td><td>versicolor</td><td>versicolor</td><td> TRUE</td></tr>\n",
       "\t<tr><td>6.6</td><td>3.0</td><td>4.4</td><td>1.4</td><td>versicolor</td><td>versicolor</td><td> TRUE</td></tr>\n",
       "\t<tr><td>6.7</td><td>3.0</td><td>5.0</td><td>1.7</td><td>versicolor</td><td>virginica </td><td>FALSE</td></tr>\n",
       "\t<tr><td>5.5</td><td>2.4</td><td>3.8</td><td>1.1</td><td>versicolor</td><td>versicolor</td><td> TRUE</td></tr>\n",
       "\t<tr><td>5.5</td><td>2.5</td><td>4.0</td><td>1.3</td><td>versicolor</td><td>versicolor</td><td> TRUE</td></tr>\n",
       "\t<tr><td>5.5</td><td>2.6</td><td>4.4</td><td>1.2</td><td>versicolor</td><td>versicolor</td><td> TRUE</td></tr>\n",
       "\t<tr><td>6.1</td><td>3.0</td><td>4.6</td><td>1.4</td><td>versicolor</td><td>versicolor</td><td> TRUE</td></tr>\n",
       "\t<tr><td>5.1</td><td>2.5</td><td>3.0</td><td>1.1</td><td>versicolor</td><td>versicolor</td><td> TRUE</td></tr>\n",
       "\t<tr><td>7.1</td><td>3.0</td><td>5.9</td><td>2.1</td><td>virginica </td><td>virginica </td><td> TRUE</td></tr>\n",
       "\t<tr><td>7.6</td><td>3.0</td><td>6.6</td><td>2.1</td><td>virginica </td><td>virginica </td><td> TRUE</td></tr>\n",
       "\t<tr><td>6.7</td><td>2.5</td><td>5.8</td><td>1.8</td><td>virginica </td><td>virginica </td><td> TRUE</td></tr>\n",
       "\t<tr><td>6.5</td><td>3.0</td><td>5.5</td><td>1.8</td><td>virginica </td><td>virginica </td><td> TRUE</td></tr>\n",
       "\t<tr><td>7.7</td><td>3.8</td><td>6.7</td><td>2.2</td><td>virginica </td><td>virginica </td><td> TRUE</td></tr>\n",
       "\t<tr><td>7.7</td><td>3.0</td><td>6.1</td><td>2.3</td><td>virginica </td><td>virginica </td><td> TRUE</td></tr>\n",
       "\t<tr><td>6.3</td><td>3.4</td><td>5.6</td><td>2.4</td><td>virginica </td><td>virginica </td><td> TRUE</td></tr>\n",
       "\t<tr><td>5.8</td><td>2.7</td><td>5.1</td><td>1.9</td><td>virginica </td><td>virginica </td><td> TRUE</td></tr>\n",
       "\t<tr><td>6.3</td><td>2.5</td><td>5.0</td><td>1.9</td><td>virginica </td><td>virginica </td><td> TRUE</td></tr>\n",
       "\t<tr><td>6.5</td><td>3.0</td><td>5.2</td><td>2.0</td><td>virginica </td><td>virginica </td><td> TRUE</td></tr>\n",
       "\t<tr><td>5.9</td><td>3.0</td><td>5.1</td><td>1.8</td><td>virginica </td><td>virginica </td><td> TRUE</td></tr>\n",
       "</tbody>\n",
       "</table>\n"
      ],
      "text/latex": [
       "A data.frame: 29 × 7\n",
       "\\begin{tabular}{lllllll}\n",
       " Sepal.Length & Sepal.Width & Petal.Length & Petal.Width & Species & test\\_Petal.Length & clasifica\\_bien\\\\\n",
       " <dbl> & <dbl> & <dbl> & <dbl> & <fct> & <fct> & <lgl>\\\\\n",
       "\\hline\n",
       "\t 4.6 & 3.4 & 1.4 & 0.3 & setosa     & setosa     &  TRUE\\\\\n",
       "\t 4.4 & 2.9 & 1.4 & 0.2 & setosa     & setosa     &  TRUE\\\\\n",
       "\t 4.3 & 3.0 & 1.1 & 0.1 & setosa     & setosa     &  TRUE\\\\\n",
       "\t 4.6 & 3.6 & 1.0 & 0.2 & setosa     & setosa     &  TRUE\\\\\n",
       "\t 5.0 & 3.0 & 1.6 & 0.2 & setosa     & setosa     &  TRUE\\\\\n",
       "\t 5.4 & 3.4 & 1.5 & 0.4 & setosa     & setosa     &  TRUE\\\\\n",
       "\t 5.0 & 3.5 & 1.3 & 0.3 & setosa     & setosa     &  TRUE\\\\\n",
       "\t 4.4 & 3.2 & 1.3 & 0.2 & setosa     & setosa     &  TRUE\\\\\n",
       "\t 5.0 & 3.3 & 1.4 & 0.2 & setosa     & setosa     &  TRUE\\\\\n",
       "\t 6.1 & 2.8 & 4.0 & 1.3 & versicolor & versicolor &  TRUE\\\\\n",
       "\t 6.1 & 2.8 & 4.7 & 1.2 & versicolor & versicolor &  TRUE\\\\\n",
       "\t 6.6 & 3.0 & 4.4 & 1.4 & versicolor & versicolor &  TRUE\\\\\n",
       "\t 6.7 & 3.0 & 5.0 & 1.7 & versicolor & virginica  & FALSE\\\\\n",
       "\t 5.5 & 2.4 & 3.8 & 1.1 & versicolor & versicolor &  TRUE\\\\\n",
       "\t 5.5 & 2.5 & 4.0 & 1.3 & versicolor & versicolor &  TRUE\\\\\n",
       "\t 5.5 & 2.6 & 4.4 & 1.2 & versicolor & versicolor &  TRUE\\\\\n",
       "\t 6.1 & 3.0 & 4.6 & 1.4 & versicolor & versicolor &  TRUE\\\\\n",
       "\t 5.1 & 2.5 & 3.0 & 1.1 & versicolor & versicolor &  TRUE\\\\\n",
       "\t 7.1 & 3.0 & 5.9 & 2.1 & virginica  & virginica  &  TRUE\\\\\n",
       "\t 7.6 & 3.0 & 6.6 & 2.1 & virginica  & virginica  &  TRUE\\\\\n",
       "\t 6.7 & 2.5 & 5.8 & 1.8 & virginica  & virginica  &  TRUE\\\\\n",
       "\t 6.5 & 3.0 & 5.5 & 1.8 & virginica  & virginica  &  TRUE\\\\\n",
       "\t 7.7 & 3.8 & 6.7 & 2.2 & virginica  & virginica  &  TRUE\\\\\n",
       "\t 7.7 & 3.0 & 6.1 & 2.3 & virginica  & virginica  &  TRUE\\\\\n",
       "\t 6.3 & 3.4 & 5.6 & 2.4 & virginica  & virginica  &  TRUE\\\\\n",
       "\t 5.8 & 2.7 & 5.1 & 1.9 & virginica  & virginica  &  TRUE\\\\\n",
       "\t 6.3 & 2.5 & 5.0 & 1.9 & virginica  & virginica  &  TRUE\\\\\n",
       "\t 6.5 & 3.0 & 5.2 & 2.0 & virginica  & virginica  &  TRUE\\\\\n",
       "\t 5.9 & 3.0 & 5.1 & 1.8 & virginica  & virginica  &  TRUE\\\\\n",
       "\\end{tabular}\n"
      ],
      "text/markdown": [
       "\n",
       "A data.frame: 29 × 7\n",
       "\n",
       "| Sepal.Length &lt;dbl&gt; | Sepal.Width &lt;dbl&gt; | Petal.Length &lt;dbl&gt; | Petal.Width &lt;dbl&gt; | Species &lt;fct&gt; | test_Petal.Length &lt;fct&gt; | clasifica_bien &lt;lgl&gt; |\n",
       "|---|---|---|---|---|---|---|\n",
       "| 4.6 | 3.4 | 1.4 | 0.3 | setosa     | setosa     |  TRUE |\n",
       "| 4.4 | 2.9 | 1.4 | 0.2 | setosa     | setosa     |  TRUE |\n",
       "| 4.3 | 3.0 | 1.1 | 0.1 | setosa     | setosa     |  TRUE |\n",
       "| 4.6 | 3.6 | 1.0 | 0.2 | setosa     | setosa     |  TRUE |\n",
       "| 5.0 | 3.0 | 1.6 | 0.2 | setosa     | setosa     |  TRUE |\n",
       "| 5.4 | 3.4 | 1.5 | 0.4 | setosa     | setosa     |  TRUE |\n",
       "| 5.0 | 3.5 | 1.3 | 0.3 | setosa     | setosa     |  TRUE |\n",
       "| 4.4 | 3.2 | 1.3 | 0.2 | setosa     | setosa     |  TRUE |\n",
       "| 5.0 | 3.3 | 1.4 | 0.2 | setosa     | setosa     |  TRUE |\n",
       "| 6.1 | 2.8 | 4.0 | 1.3 | versicolor | versicolor |  TRUE |\n",
       "| 6.1 | 2.8 | 4.7 | 1.2 | versicolor | versicolor |  TRUE |\n",
       "| 6.6 | 3.0 | 4.4 | 1.4 | versicolor | versicolor |  TRUE |\n",
       "| 6.7 | 3.0 | 5.0 | 1.7 | versicolor | virginica  | FALSE |\n",
       "| 5.5 | 2.4 | 3.8 | 1.1 | versicolor | versicolor |  TRUE |\n",
       "| 5.5 | 2.5 | 4.0 | 1.3 | versicolor | versicolor |  TRUE |\n",
       "| 5.5 | 2.6 | 4.4 | 1.2 | versicolor | versicolor |  TRUE |\n",
       "| 6.1 | 3.0 | 4.6 | 1.4 | versicolor | versicolor |  TRUE |\n",
       "| 5.1 | 2.5 | 3.0 | 1.1 | versicolor | versicolor |  TRUE |\n",
       "| 7.1 | 3.0 | 5.9 | 2.1 | virginica  | virginica  |  TRUE |\n",
       "| 7.6 | 3.0 | 6.6 | 2.1 | virginica  | virginica  |  TRUE |\n",
       "| 6.7 | 2.5 | 5.8 | 1.8 | virginica  | virginica  |  TRUE |\n",
       "| 6.5 | 3.0 | 5.5 | 1.8 | virginica  | virginica  |  TRUE |\n",
       "| 7.7 | 3.8 | 6.7 | 2.2 | virginica  | virginica  |  TRUE |\n",
       "| 7.7 | 3.0 | 6.1 | 2.3 | virginica  | virginica  |  TRUE |\n",
       "| 6.3 | 3.4 | 5.6 | 2.4 | virginica  | virginica  |  TRUE |\n",
       "| 5.8 | 2.7 | 5.1 | 1.9 | virginica  | virginica  |  TRUE |\n",
       "| 6.3 | 2.5 | 5.0 | 1.9 | virginica  | virginica  |  TRUE |\n",
       "| 6.5 | 3.0 | 5.2 | 2.0 | virginica  | virginica  |  TRUE |\n",
       "| 5.9 | 3.0 | 5.1 | 1.8 | virginica  | virginica  |  TRUE |\n",
       "\n"
      ],
      "text/plain": [
       "   Sepal.Length Sepal.Width Petal.Length Petal.Width Species   \n",
       "1  4.6          3.4         1.4          0.3         setosa    \n",
       "2  4.4          2.9         1.4          0.2         setosa    \n",
       "3  4.3          3.0         1.1          0.1         setosa    \n",
       "4  4.6          3.6         1.0          0.2         setosa    \n",
       "5  5.0          3.0         1.6          0.2         setosa    \n",
       "6  5.4          3.4         1.5          0.4         setosa    \n",
       "7  5.0          3.5         1.3          0.3         setosa    \n",
       "8  4.4          3.2         1.3          0.2         setosa    \n",
       "9  5.0          3.3         1.4          0.2         setosa    \n",
       "10 6.1          2.8         4.0          1.3         versicolor\n",
       "11 6.1          2.8         4.7          1.2         versicolor\n",
       "12 6.6          3.0         4.4          1.4         versicolor\n",
       "13 6.7          3.0         5.0          1.7         versicolor\n",
       "14 5.5          2.4         3.8          1.1         versicolor\n",
       "15 5.5          2.5         4.0          1.3         versicolor\n",
       "16 5.5          2.6         4.4          1.2         versicolor\n",
       "17 6.1          3.0         4.6          1.4         versicolor\n",
       "18 5.1          2.5         3.0          1.1         versicolor\n",
       "19 7.1          3.0         5.9          2.1         virginica \n",
       "20 7.6          3.0         6.6          2.1         virginica \n",
       "21 6.7          2.5         5.8          1.8         virginica \n",
       "22 6.5          3.0         5.5          1.8         virginica \n",
       "23 7.7          3.8         6.7          2.2         virginica \n",
       "24 7.7          3.0         6.1          2.3         virginica \n",
       "25 6.3          3.4         5.6          2.4         virginica \n",
       "26 5.8          2.7         5.1          1.9         virginica \n",
       "27 6.3          2.5         5.0          1.9         virginica \n",
       "28 6.5          3.0         5.2          2.0         virginica \n",
       "29 5.9          3.0         5.1          1.8         virginica \n",
       "   test_Petal.Length clasifica_bien\n",
       "1  setosa             TRUE         \n",
       "2  setosa             TRUE         \n",
       "3  setosa             TRUE         \n",
       "4  setosa             TRUE         \n",
       "5  setosa             TRUE         \n",
       "6  setosa             TRUE         \n",
       "7  setosa             TRUE         \n",
       "8  setosa             TRUE         \n",
       "9  setosa             TRUE         \n",
       "10 versicolor         TRUE         \n",
       "11 versicolor         TRUE         \n",
       "12 versicolor         TRUE         \n",
       "13 virginica         FALSE         \n",
       "14 versicolor         TRUE         \n",
       "15 versicolor         TRUE         \n",
       "16 versicolor         TRUE         \n",
       "17 versicolor         TRUE         \n",
       "18 versicolor         TRUE         \n",
       "19 virginica          TRUE         \n",
       "20 virginica          TRUE         \n",
       "21 virginica          TRUE         \n",
       "22 virginica          TRUE         \n",
       "23 virginica          TRUE         \n",
       "24 virginica          TRUE         \n",
       "25 virginica          TRUE         \n",
       "26 virginica          TRUE         \n",
       "27 virginica          TRUE         \n",
       "28 virginica          TRUE         \n",
       "29 virginica          TRUE         "
      ]
     },
     "metadata": {},
     "output_type": "display_data"
    }
   ],
   "source": [
    "x_pl<-iris_test[,c(\"Petal.Length\"),drop=F]\n",
    "test_Petal.Length <- apply(x_pl,1,FUN=clasifica, medias_l=medias_pl, varianza_l=varianza_pl,delta=delta, aprioris=aprioris, clases=clases)\n",
    "\n",
    "iris_test_Petal.Length <- cbind(iris_test, test_Petal.Length) %>% mutate(clasifica_bien = Species ==test_Petal.Length)\n",
    "\n",
    "iris_test_Petal.Length"
   ]
  },
  {
   "cell_type": "markdown",
   "metadata": {},
   "source": [
    "Podemos observar que tomando a la variable Petal.Length tenemos un mejor desempeño en el modelo. Revisamos la proporción de observaciones clasificadas de manera correcta."
   ]
  },
  {
   "cell_type": "code",
   "execution_count": 29,
   "metadata": {},
   "outputs": [
    {
     "data": {
      "text/html": [
       "0.96551724137931"
      ],
      "text/latex": [
       "0.96551724137931"
      ],
      "text/markdown": [
       "0.96551724137931"
      ],
      "text/plain": [
       "[1] 0.9655172"
      ]
     },
     "metadata": {},
     "output_type": "display_data"
    }
   ],
   "source": [
    "iris_test_Petal.Length %>% \n",
    "    filter(clasifica_bien==TRUE) %>% \n",
    "    nrow() /nrow(iris_test_Petal.Length)"
   ]
  },
  {
   "cell_type": "markdown",
   "metadata": {},
   "source": [
    "Logramos obtener un ***96.55%*** de observaciones clasificadas de manera correcta. Esto se debe a que las clases están bien separadas como se puede observar en la siguiente gráfica."
   ]
  },
  {
   "cell_type": "code",
   "execution_count": 30,
   "metadata": {},
   "outputs": [
    {
     "data": {
      "image/png": "[encoded data removed]",
      "text/plain": [
       "plot without title"
      ]
     },
     "metadata": {
      "image/png": {
       "height": 420,
       "width": 420
      }
     },
     "output_type": "display_data"
    }
   ],
   "source": [
    "ggplot(iris_train,aes(Petal.Length,fill=Species))+\n",
    "  geom_histogram(bins=20)"
   ]
  },
  {
   "cell_type": "markdown",
   "metadata": {},
   "source": [
    "Como se observa en el histograma, las clases están bien separadas.\n",
    "\n",
    "Procedemos a probar el caso multivariado.\n",
    "\n",
    "El primer caso que vamos a revisar es tomando las variables Sepal.Length y Sepal.Width."
   ]
  },
  {
   "cell_type": "code",
   "execution_count": 31,
   "metadata": {},
   "outputs": [
    {
     "data": {
      "text/html": [
       "<table>\n",
       "<caption>A data.frame: 29 × 7</caption>\n",
       "<thead>\n",
       "\t<tr><th scope=col>Sepal.Length</th><th scope=col>Sepal.Width</th><th scope=col>Petal.Length</th><th scope=col>Petal.Width</th><th scope=col>Species</th><th scope=col>test_Sepal.Length_Width</th><th scope=col>clasifica_bien</th></tr>\n",
       "\t<tr><th scope=col>&lt;dbl&gt;</th><th scope=col>&lt;dbl&gt;</th><th scope=col>&lt;dbl&gt;</th><th scope=col>&lt;dbl&gt;</th><th scope=col>&lt;fct&gt;</th><th scope=col>&lt;fct&gt;</th><th scope=col>&lt;lgl&gt;</th></tr>\n",
       "</thead>\n",
       "<tbody>\n",
       "\t<tr><td>4.6</td><td>3.4</td><td>1.4</td><td>0.3</td><td>setosa    </td><td>setosa    </td><td> TRUE</td></tr>\n",
       "\t<tr><td>4.4</td><td>2.9</td><td>1.4</td><td>0.2</td><td>setosa    </td><td>setosa    </td><td> TRUE</td></tr>\n",
       "\t<tr><td>4.3</td><td>3.0</td><td>1.1</td><td>0.1</td><td>setosa    </td><td>setosa    </td><td> TRUE</td></tr>\n",
       "\t<tr><td>4.6</td><td>3.6</td><td>1.0</td><td>0.2</td><td>setosa    </td><td>setosa    </td><td> TRUE</td></tr>\n",
       "\t<tr><td>5.0</td><td>3.0</td><td>1.6</td><td>0.2</td><td>setosa    </td><td>setosa    </td><td> TRUE</td></tr>\n",
       "\t<tr><td>5.4</td><td>3.4</td><td>1.5</td><td>0.4</td><td>setosa    </td><td>setosa    </td><td> TRUE</td></tr>\n",
       "\t<tr><td>5.0</td><td>3.5</td><td>1.3</td><td>0.3</td><td>setosa    </td><td>setosa    </td><td> TRUE</td></tr>\n",
       "\t<tr><td>4.4</td><td>3.2</td><td>1.3</td><td>0.2</td><td>setosa    </td><td>setosa    </td><td> TRUE</td></tr>\n",
       "\t<tr><td>5.0</td><td>3.3</td><td>1.4</td><td>0.2</td><td>setosa    </td><td>setosa    </td><td> TRUE</td></tr>\n",
       "\t<tr><td>6.1</td><td>2.8</td><td>4.0</td><td>1.3</td><td>versicolor</td><td>versicolor</td><td> TRUE</td></tr>\n",
       "\t<tr><td>6.1</td><td>2.8</td><td>4.7</td><td>1.2</td><td>versicolor</td><td>versicolor</td><td> TRUE</td></tr>\n",
       "\t<tr><td>6.6</td><td>3.0</td><td>4.4</td><td>1.4</td><td>versicolor</td><td>virginica </td><td>FALSE</td></tr>\n",
       "\t<tr><td>6.7</td><td>3.0</td><td>5.0</td><td>1.7</td><td>versicolor</td><td>virginica </td><td>FALSE</td></tr>\n",
       "\t<tr><td>5.5</td><td>2.4</td><td>3.8</td><td>1.1</td><td>versicolor</td><td>versicolor</td><td> TRUE</td></tr>\n",
       "\t<tr><td>5.5</td><td>2.5</td><td>4.0</td><td>1.3</td><td>versicolor</td><td>versicolor</td><td> TRUE</td></tr>\n",
       "\t<tr><td>5.5</td><td>2.6</td><td>4.4</td><td>1.2</td><td>versicolor</td><td>versicolor</td><td> TRUE</td></tr>\n",
       "\t<tr><td>6.1</td><td>3.0</td><td>4.6</td><td>1.4</td><td>versicolor</td><td>versicolor</td><td> TRUE</td></tr>\n",
       "\t<tr><td>5.1</td><td>2.5</td><td>3.0</td><td>1.1</td><td>versicolor</td><td>versicolor</td><td> TRUE</td></tr>\n",
       "\t<tr><td>7.1</td><td>3.0</td><td>5.9</td><td>2.1</td><td>virginica </td><td>virginica </td><td> TRUE</td></tr>\n",
       "\t<tr><td>7.6</td><td>3.0</td><td>6.6</td><td>2.1</td><td>virginica </td><td>virginica </td><td> TRUE</td></tr>\n",
       "\t<tr><td>6.7</td><td>2.5</td><td>5.8</td><td>1.8</td><td>virginica </td><td>virginica </td><td> TRUE</td></tr>\n",
       "\t<tr><td>6.5</td><td>3.0</td><td>5.5</td><td>1.8</td><td>virginica </td><td>virginica </td><td> TRUE</td></tr>\n",
       "\t<tr><td>7.7</td><td>3.8</td><td>6.7</td><td>2.2</td><td>virginica </td><td>virginica </td><td> TRUE</td></tr>\n",
       "\t<tr><td>7.7</td><td>3.0</td><td>6.1</td><td>2.3</td><td>virginica </td><td>virginica </td><td> TRUE</td></tr>\n",
       "\t<tr><td>6.3</td><td>3.4</td><td>5.6</td><td>2.4</td><td>virginica </td><td>versicolor</td><td>FALSE</td></tr>\n",
       "\t<tr><td>5.8</td><td>2.7</td><td>5.1</td><td>1.9</td><td>virginica </td><td>versicolor</td><td>FALSE</td></tr>\n",
       "\t<tr><td>6.3</td><td>2.5</td><td>5.0</td><td>1.9</td><td>virginica </td><td>virginica </td><td> TRUE</td></tr>\n",
       "\t<tr><td>6.5</td><td>3.0</td><td>5.2</td><td>2.0</td><td>virginica </td><td>virginica </td><td> TRUE</td></tr>\n",
       "\t<tr><td>5.9</td><td>3.0</td><td>5.1</td><td>1.8</td><td>virginica </td><td>versicolor</td><td>FALSE</td></tr>\n",
       "</tbody>\n",
       "</table>\n"
      ],
      "text/latex": [
       "A data.frame: 29 × 7\n",
       "\\begin{tabular}{lllllll}\n",
       " Sepal.Length & Sepal.Width & Petal.Length & Petal.Width & Species & test\\_Sepal.Length\\_Width & clasifica\\_bien\\\\\n",
       " <dbl> & <dbl> & <dbl> & <dbl> & <fct> & <fct> & <lgl>\\\\\n",
       "\\hline\n",
       "\t 4.6 & 3.4 & 1.4 & 0.3 & setosa     & setosa     &  TRUE\\\\\n",
       "\t 4.4 & 2.9 & 1.4 & 0.2 & setosa     & setosa     &  TRUE\\\\\n",
       "\t 4.3 & 3.0 & 1.1 & 0.1 & setosa     & setosa     &  TRUE\\\\\n",
       "\t 4.6 & 3.6 & 1.0 & 0.2 & setosa     & setosa     &  TRUE\\\\\n",
       "\t 5.0 & 3.0 & 1.6 & 0.2 & setosa     & setosa     &  TRUE\\\\\n",
       "\t 5.4 & 3.4 & 1.5 & 0.4 & setosa     & setosa     &  TRUE\\\\\n",
       "\t 5.0 & 3.5 & 1.3 & 0.3 & setosa     & setosa     &  TRUE\\\\\n",
       "\t 4.4 & 3.2 & 1.3 & 0.2 & setosa     & setosa     &  TRUE\\\\\n",
       "\t 5.0 & 3.3 & 1.4 & 0.2 & setosa     & setosa     &  TRUE\\\\\n",
       "\t 6.1 & 2.8 & 4.0 & 1.3 & versicolor & versicolor &  TRUE\\\\\n",
       "\t 6.1 & 2.8 & 4.7 & 1.2 & versicolor & versicolor &  TRUE\\\\\n",
       "\t 6.6 & 3.0 & 4.4 & 1.4 & versicolor & virginica  & FALSE\\\\\n",
       "\t 6.7 & 3.0 & 5.0 & 1.7 & versicolor & virginica  & FALSE\\\\\n",
       "\t 5.5 & 2.4 & 3.8 & 1.1 & versicolor & versicolor &  TRUE\\\\\n",
       "\t 5.5 & 2.5 & 4.0 & 1.3 & versicolor & versicolor &  TRUE\\\\\n",
       "\t 5.5 & 2.6 & 4.4 & 1.2 & versicolor & versicolor &  TRUE\\\\\n",
       "\t 6.1 & 3.0 & 4.6 & 1.4 & versicolor & versicolor &  TRUE\\\\\n",
       "\t 5.1 & 2.5 & 3.0 & 1.1 & versicolor & versicolor &  TRUE\\\\\n",
       "\t 7.1 & 3.0 & 5.9 & 2.1 & virginica  & virginica  &  TRUE\\\\\n",
       "\t 7.6 & 3.0 & 6.6 & 2.1 & virginica  & virginica  &  TRUE\\\\\n",
       "\t 6.7 & 2.5 & 5.8 & 1.8 & virginica  & virginica  &  TRUE\\\\\n",
       "\t 6.5 & 3.0 & 5.5 & 1.8 & virginica  & virginica  &  TRUE\\\\\n",
       "\t 7.7 & 3.8 & 6.7 & 2.2 & virginica  & virginica  &  TRUE\\\\\n",
       "\t 7.7 & 3.0 & 6.1 & 2.3 & virginica  & virginica  &  TRUE\\\\\n",
       "\t 6.3 & 3.4 & 5.6 & 2.4 & virginica  & versicolor & FALSE\\\\\n",
       "\t 5.8 & 2.7 & 5.1 & 1.9 & virginica  & versicolor & FALSE\\\\\n",
       "\t 6.3 & 2.5 & 5.0 & 1.9 & virginica  & virginica  &  TRUE\\\\\n",
       "\t 6.5 & 3.0 & 5.2 & 2.0 & virginica  & virginica  &  TRUE\\\\\n",
       "\t 5.9 & 3.0 & 5.1 & 1.8 & virginica  & versicolor & FALSE\\\\\n",
       "\\end{tabular}\n"
      ],
      "text/markdown": [
       "\n",
       "A data.frame: 29 × 7\n",
       "\n",
       "| Sepal.Length &lt;dbl&gt; | Sepal.Width &lt;dbl&gt; | Petal.Length &lt;dbl&gt; | Petal.Width &lt;dbl&gt; | Species &lt;fct&gt; | test_Sepal.Length_Width &lt;fct&gt; | clasifica_bien &lt;lgl&gt; |\n",
       "|---|---|---|---|---|---|---|\n",
       "| 4.6 | 3.4 | 1.4 | 0.3 | setosa     | setosa     |  TRUE |\n",
       "| 4.4 | 2.9 | 1.4 | 0.2 | setosa     | setosa     |  TRUE |\n",
       "| 4.3 | 3.0 | 1.1 | 0.1 | setosa     | setosa     |  TRUE |\n",
       "| 4.6 | 3.6 | 1.0 | 0.2 | setosa     | setosa     |  TRUE |\n",
       "| 5.0 | 3.0 | 1.6 | 0.2 | setosa     | setosa     |  TRUE |\n",
       "| 5.4 | 3.4 | 1.5 | 0.4 | setosa     | setosa     |  TRUE |\n",
       "| 5.0 | 3.5 | 1.3 | 0.3 | setosa     | setosa     |  TRUE |\n",
       "| 4.4 | 3.2 | 1.3 | 0.2 | setosa     | setosa     |  TRUE |\n",
       "| 5.0 | 3.3 | 1.4 | 0.2 | setosa     | setosa     |  TRUE |\n",
       "| 6.1 | 2.8 | 4.0 | 1.3 | versicolor | versicolor |  TRUE |\n",
       "| 6.1 | 2.8 | 4.7 | 1.2 | versicolor | versicolor |  TRUE |\n",
       "| 6.6 | 3.0 | 4.4 | 1.4 | versicolor | virginica  | FALSE |\n",
       "| 6.7 | 3.0 | 5.0 | 1.7 | versicolor | virginica  | FALSE |\n",
       "| 5.5 | 2.4 | 3.8 | 1.1 | versicolor | versicolor |  TRUE |\n",
       "| 5.5 | 2.5 | 4.0 | 1.3 | versicolor | versicolor |  TRUE |\n",
       "| 5.5 | 2.6 | 4.4 | 1.2 | versicolor | versicolor |  TRUE |\n",
       "| 6.1 | 3.0 | 4.6 | 1.4 | versicolor | versicolor |  TRUE |\n",
       "| 5.1 | 2.5 | 3.0 | 1.1 | versicolor | versicolor |  TRUE |\n",
       "| 7.1 | 3.0 | 5.9 | 2.1 | virginica  | virginica  |  TRUE |\n",
       "| 7.6 | 3.0 | 6.6 | 2.1 | virginica  | virginica  |  TRUE |\n",
       "| 6.7 | 2.5 | 5.8 | 1.8 | virginica  | virginica  |  TRUE |\n",
       "| 6.5 | 3.0 | 5.5 | 1.8 | virginica  | virginica  |  TRUE |\n",
       "| 7.7 | 3.8 | 6.7 | 2.2 | virginica  | virginica  |  TRUE |\n",
       "| 7.7 | 3.0 | 6.1 | 2.3 | virginica  | virginica  |  TRUE |\n",
       "| 6.3 | 3.4 | 5.6 | 2.4 | virginica  | versicolor | FALSE |\n",
       "| 5.8 | 2.7 | 5.1 | 1.9 | virginica  | versicolor | FALSE |\n",
       "| 6.3 | 2.5 | 5.0 | 1.9 | virginica  | virginica  |  TRUE |\n",
       "| 6.5 | 3.0 | 5.2 | 2.0 | virginica  | virginica  |  TRUE |\n",
       "| 5.9 | 3.0 | 5.1 | 1.8 | virginica  | versicolor | FALSE |\n",
       "\n"
      ],
      "text/plain": [
       "   Sepal.Length Sepal.Width Petal.Length Petal.Width Species   \n",
       "1  4.6          3.4         1.4          0.3         setosa    \n",
       "2  4.4          2.9         1.4          0.2         setosa    \n",
       "3  4.3          3.0         1.1          0.1         setosa    \n",
       "4  4.6          3.6         1.0          0.2         setosa    \n",
       "5  5.0          3.0         1.6          0.2         setosa    \n",
       "6  5.4          3.4         1.5          0.4         setosa    \n",
       "7  5.0          3.5         1.3          0.3         setosa    \n",
       "8  4.4          3.2         1.3          0.2         setosa    \n",
       "9  5.0          3.3         1.4          0.2         setosa    \n",
       "10 6.1          2.8         4.0          1.3         versicolor\n",
       "11 6.1          2.8         4.7          1.2         versicolor\n",
       "12 6.6          3.0         4.4          1.4         versicolor\n",
       "13 6.7          3.0         5.0          1.7         versicolor\n",
       "14 5.5          2.4         3.8          1.1         versicolor\n",
       "15 5.5          2.5         4.0          1.3         versicolor\n",
       "16 5.5          2.6         4.4          1.2         versicolor\n",
       "17 6.1          3.0         4.6          1.4         versicolor\n",
       "18 5.1          2.5         3.0          1.1         versicolor\n",
       "19 7.1          3.0         5.9          2.1         virginica \n",
       "20 7.6          3.0         6.6          2.1         virginica \n",
       "21 6.7          2.5         5.8          1.8         virginica \n",
       "22 6.5          3.0         5.5          1.8         virginica \n",
       "23 7.7          3.8         6.7          2.2         virginica \n",
       "24 7.7          3.0         6.1          2.3         virginica \n",
       "25 6.3          3.4         5.6          2.4         virginica \n",
       "26 5.8          2.7         5.1          1.9         virginica \n",
       "27 6.3          2.5         5.0          1.9         virginica \n",
       "28 6.5          3.0         5.2          2.0         virginica \n",
       "29 5.9          3.0         5.1          1.8         virginica \n",
       "   test_Sepal.Length_Width clasifica_bien\n",
       "1  setosa                   TRUE         \n",
       "2  setosa                   TRUE         \n",
       "3  setosa                   TRUE         \n",
       "4  setosa                   TRUE         \n",
       "5  setosa                   TRUE         \n",
       "6  setosa                   TRUE         \n",
       "7  setosa                   TRUE         \n",
       "8  setosa                   TRUE         \n",
       "9  setosa                   TRUE         \n",
       "10 versicolor               TRUE         \n",
       "11 versicolor               TRUE         \n",
       "12 virginica               FALSE         \n",
       "13 virginica               FALSE         \n",
       "14 versicolor               TRUE         \n",
       "15 versicolor               TRUE         \n",
       "16 versicolor               TRUE         \n",
       "17 versicolor               TRUE         \n",
       "18 versicolor               TRUE         \n",
       "19 virginica                TRUE         \n",
       "20 virginica                TRUE         \n",
       "21 virginica                TRUE         \n",
       "22 virginica                TRUE         \n",
       "23 virginica                TRUE         \n",
       "24 virginica                TRUE         \n",
       "25 versicolor              FALSE         \n",
       "26 versicolor              FALSE         \n",
       "27 virginica                TRUE         \n",
       "28 virginica                TRUE         \n",
       "29 versicolor              FALSE         "
      ]
     },
     "metadata": {},
     "output_type": "display_data"
    }
   ],
   "source": [
    "x_slsw <-iris_test[,c(\"Sepal.Length\",\"Sepal.Width\"),drop=F]\n",
    "test_Sepal.Length_Width <- apply(x_slsw,1,FUN=clasifica, medias_l=medias_swsl, varianza_l=covarianzas_slsw,delta=delta, aprioris=aprioris, clases=clases)\n",
    "\n",
    "iris_test_Sepal.Length_Width <- cbind(iris_test, test_Sepal.Length_Width) %>% mutate(clasifica_bien = Species ==test_Sepal.Length_Width)\n",
    "\n",
    "iris_test_Sepal.Length_Width"
   ]
  },
  {
   "cell_type": "markdown",
   "metadata": {},
   "source": [
    "Podemos observar que tomando a las variables Sepal.Length y Sepal.Width logramos clasificar bastante bien a la clase setosa, sin embargo, para las otras clases hay errores. Revisamos la proporción de observaciones clasificadas de manera correcta."
   ]
  },
  {
   "cell_type": "code",
   "execution_count": 32,
   "metadata": {},
   "outputs": [
    {
     "data": {
      "text/html": [
       "0.827586206896552"
      ],
      "text/latex": [
       "0.827586206896552"
      ],
      "text/markdown": [
       "0.827586206896552"
      ],
      "text/plain": [
       "[1] 0.8275862"
      ]
     },
     "metadata": {},
     "output_type": "display_data"
    }
   ],
   "source": [
    "iris_test_Sepal.Length_Width %>% \n",
    "    filter(clasifica_bien==TRUE) %>% \n",
    "    nrow() /nrow(iris_test_Sepal.Length_Width)"
   ]
  },
  {
   "cell_type": "markdown",
   "metadata": {},
   "source": [
    "Logramos obtener un ***82.75%*** de observaciones clasificadas de manera correcta. Al añadir una variable más logramos mejorar el rendimiento del modelo, sin embargo, para clasificar versicolor y virginica hay errores debido a que no está bien separado como podemos observar en la siguiente gráfica."
   ]
  },
  {
   "cell_type": "code",
   "execution_count": 33,
   "metadata": {},
   "outputs": [
    {
     "data": {
      "image/png": "[encoded data removed]",
      "text/plain": [
       "plot without title"
      ]
     },
     "metadata": {
      "image/png": {
       "height": 420,
       "width": 420
      }
     },
     "output_type": "display_data"
    }
   ],
   "source": [
    "ggplot(iris_train,aes(x=Sepal.Length,y=Sepal.Width,color =Species))+ geom_point()\n"
   ]
  },
  {
   "cell_type": "code",
   "execution_count": 34,
   "metadata": {},
   "outputs": [
    {
     "data": {
      "text/html": [
       "<table>\n",
       "<caption>A data.frame: 29 × 7</caption>\n",
       "<thead>\n",
       "\t<tr><th scope=col>Sepal.Length</th><th scope=col>Sepal.Width</th><th scope=col>Petal.Length</th><th scope=col>Petal.Width</th><th scope=col>Species</th><th scope=col>test_Petal.Length_Width</th><th scope=col>clasifica_bien</th></tr>\n",
       "\t<tr><th scope=col>&lt;dbl&gt;</th><th scope=col>&lt;dbl&gt;</th><th scope=col>&lt;dbl&gt;</th><th scope=col>&lt;dbl&gt;</th><th scope=col>&lt;fct&gt;</th><th scope=col>&lt;fct&gt;</th><th scope=col>&lt;lgl&gt;</th></tr>\n",
       "</thead>\n",
       "<tbody>\n",
       "\t<tr><td>4.6</td><td>3.4</td><td>1.4</td><td>0.3</td><td>setosa    </td><td>setosa    </td><td> TRUE</td></tr>\n",
       "\t<tr><td>4.4</td><td>2.9</td><td>1.4</td><td>0.2</td><td>setosa    </td><td>setosa    </td><td> TRUE</td></tr>\n",
       "\t<tr><td>4.3</td><td>3.0</td><td>1.1</td><td>0.1</td><td>setosa    </td><td>setosa    </td><td> TRUE</td></tr>\n",
       "\t<tr><td>4.6</td><td>3.6</td><td>1.0</td><td>0.2</td><td>setosa    </td><td>setosa    </td><td> TRUE</td></tr>\n",
       "\t<tr><td>5.0</td><td>3.0</td><td>1.6</td><td>0.2</td><td>setosa    </td><td>setosa    </td><td> TRUE</td></tr>\n",
       "\t<tr><td>5.4</td><td>3.4</td><td>1.5</td><td>0.4</td><td>setosa    </td><td>setosa    </td><td> TRUE</td></tr>\n",
       "\t<tr><td>5.0</td><td>3.5</td><td>1.3</td><td>0.3</td><td>setosa    </td><td>setosa    </td><td> TRUE</td></tr>\n",
       "\t<tr><td>4.4</td><td>3.2</td><td>1.3</td><td>0.2</td><td>setosa    </td><td>setosa    </td><td> TRUE</td></tr>\n",
       "\t<tr><td>5.0</td><td>3.3</td><td>1.4</td><td>0.2</td><td>setosa    </td><td>setosa    </td><td> TRUE</td></tr>\n",
       "\t<tr><td>6.1</td><td>2.8</td><td>4.0</td><td>1.3</td><td>versicolor</td><td>versicolor</td><td> TRUE</td></tr>\n",
       "\t<tr><td>6.1</td><td>2.8</td><td>4.7</td><td>1.2</td><td>versicolor</td><td>versicolor</td><td> TRUE</td></tr>\n",
       "\t<tr><td>6.6</td><td>3.0</td><td>4.4</td><td>1.4</td><td>versicolor</td><td>versicolor</td><td> TRUE</td></tr>\n",
       "\t<tr><td>6.7</td><td>3.0</td><td>5.0</td><td>1.7</td><td>versicolor</td><td>virginica </td><td>FALSE</td></tr>\n",
       "\t<tr><td>5.5</td><td>2.4</td><td>3.8</td><td>1.1</td><td>versicolor</td><td>versicolor</td><td> TRUE</td></tr>\n",
       "\t<tr><td>5.5</td><td>2.5</td><td>4.0</td><td>1.3</td><td>versicolor</td><td>versicolor</td><td> TRUE</td></tr>\n",
       "\t<tr><td>5.5</td><td>2.6</td><td>4.4</td><td>1.2</td><td>versicolor</td><td>versicolor</td><td> TRUE</td></tr>\n",
       "\t<tr><td>6.1</td><td>3.0</td><td>4.6</td><td>1.4</td><td>versicolor</td><td>versicolor</td><td> TRUE</td></tr>\n",
       "\t<tr><td>5.1</td><td>2.5</td><td>3.0</td><td>1.1</td><td>versicolor</td><td>versicolor</td><td> TRUE</td></tr>\n",
       "\t<tr><td>7.1</td><td>3.0</td><td>5.9</td><td>2.1</td><td>virginica </td><td>virginica </td><td> TRUE</td></tr>\n",
       "\t<tr><td>7.6</td><td>3.0</td><td>6.6</td><td>2.1</td><td>virginica </td><td>virginica </td><td> TRUE</td></tr>\n",
       "\t<tr><td>6.7</td><td>2.5</td><td>5.8</td><td>1.8</td><td>virginica </td><td>virginica </td><td> TRUE</td></tr>\n",
       "\t<tr><td>6.5</td><td>3.0</td><td>5.5</td><td>1.8</td><td>virginica </td><td>virginica </td><td> TRUE</td></tr>\n",
       "\t<tr><td>7.7</td><td>3.8</td><td>6.7</td><td>2.2</td><td>virginica </td><td>virginica </td><td> TRUE</td></tr>\n",
       "\t<tr><td>7.7</td><td>3.0</td><td>6.1</td><td>2.3</td><td>virginica </td><td>virginica </td><td> TRUE</td></tr>\n",
       "\t<tr><td>6.3</td><td>3.4</td><td>5.6</td><td>2.4</td><td>virginica </td><td>virginica </td><td> TRUE</td></tr>\n",
       "\t<tr><td>5.8</td><td>2.7</td><td>5.1</td><td>1.9</td><td>virginica </td><td>virginica </td><td> TRUE</td></tr>\n",
       "\t<tr><td>6.3</td><td>2.5</td><td>5.0</td><td>1.9</td><td>virginica </td><td>virginica </td><td> TRUE</td></tr>\n",
       "\t<tr><td>6.5</td><td>3.0</td><td>5.2</td><td>2.0</td><td>virginica </td><td>virginica </td><td> TRUE</td></tr>\n",
       "\t<tr><td>5.9</td><td>3.0</td><td>5.1</td><td>1.8</td><td>virginica </td><td>virginica </td><td> TRUE</td></tr>\n",
       "</tbody>\n",
       "</table>\n"
      ],
      "text/latex": [
       "A data.frame: 29 × 7\n",
       "\\begin{tabular}{lllllll}\n",
       " Sepal.Length & Sepal.Width & Petal.Length & Petal.Width & Species & test\\_Petal.Length\\_Width & clasifica\\_bien\\\\\n",
       " <dbl> & <dbl> & <dbl> & <dbl> & <fct> & <fct> & <lgl>\\\\\n",
       "\\hline\n",
       "\t 4.6 & 3.4 & 1.4 & 0.3 & setosa     & setosa     &  TRUE\\\\\n",
       "\t 4.4 & 2.9 & 1.4 & 0.2 & setosa     & setosa     &  TRUE\\\\\n",
       "\t 4.3 & 3.0 & 1.1 & 0.1 & setosa     & setosa     &  TRUE\\\\\n",
       "\t 4.6 & 3.6 & 1.0 & 0.2 & setosa     & setosa     &  TRUE\\\\\n",
       "\t 5.0 & 3.0 & 1.6 & 0.2 & setosa     & setosa     &  TRUE\\\\\n",
       "\t 5.4 & 3.4 & 1.5 & 0.4 & setosa     & setosa     &  TRUE\\\\\n",
       "\t 5.0 & 3.5 & 1.3 & 0.3 & setosa     & setosa     &  TRUE\\\\\n",
       "\t 4.4 & 3.2 & 1.3 & 0.2 & setosa     & setosa     &  TRUE\\\\\n",
       "\t 5.0 & 3.3 & 1.4 & 0.2 & setosa     & setosa     &  TRUE\\\\\n",
       "\t 6.1 & 2.8 & 4.0 & 1.3 & versicolor & versicolor &  TRUE\\\\\n",
       "\t 6.1 & 2.8 & 4.7 & 1.2 & versicolor & versicolor &  TRUE\\\\\n",
       "\t 6.6 & 3.0 & 4.4 & 1.4 & versicolor & versicolor &  TRUE\\\\\n",
       "\t 6.7 & 3.0 & 5.0 & 1.7 & versicolor & virginica  & FALSE\\\\\n",
       "\t 5.5 & 2.4 & 3.8 & 1.1 & versicolor & versicolor &  TRUE\\\\\n",
       "\t 5.5 & 2.5 & 4.0 & 1.3 & versicolor & versicolor &  TRUE\\\\\n",
       "\t 5.5 & 2.6 & 4.4 & 1.2 & versicolor & versicolor &  TRUE\\\\\n",
       "\t 6.1 & 3.0 & 4.6 & 1.4 & versicolor & versicolor &  TRUE\\\\\n",
       "\t 5.1 & 2.5 & 3.0 & 1.1 & versicolor & versicolor &  TRUE\\\\\n",
       "\t 7.1 & 3.0 & 5.9 & 2.1 & virginica  & virginica  &  TRUE\\\\\n",
       "\t 7.6 & 3.0 & 6.6 & 2.1 & virginica  & virginica  &  TRUE\\\\\n",
       "\t 6.7 & 2.5 & 5.8 & 1.8 & virginica  & virginica  &  TRUE\\\\\n",
       "\t 6.5 & 3.0 & 5.5 & 1.8 & virginica  & virginica  &  TRUE\\\\\n",
       "\t 7.7 & 3.8 & 6.7 & 2.2 & virginica  & virginica  &  TRUE\\\\\n",
       "\t 7.7 & 3.0 & 6.1 & 2.3 & virginica  & virginica  &  TRUE\\\\\n",
       "\t 6.3 & 3.4 & 5.6 & 2.4 & virginica  & virginica  &  TRUE\\\\\n",
       "\t 5.8 & 2.7 & 5.1 & 1.9 & virginica  & virginica  &  TRUE\\\\\n",
       "\t 6.3 & 2.5 & 5.0 & 1.9 & virginica  & virginica  &  TRUE\\\\\n",
       "\t 6.5 & 3.0 & 5.2 & 2.0 & virginica  & virginica  &  TRUE\\\\\n",
       "\t 5.9 & 3.0 & 5.1 & 1.8 & virginica  & virginica  &  TRUE\\\\\n",
       "\\end{tabular}\n"
      ],
      "text/markdown": [
       "\n",
       "A data.frame: 29 × 7\n",
       "\n",
       "| Sepal.Length &lt;dbl&gt; | Sepal.Width &lt;dbl&gt; | Petal.Length &lt;dbl&gt; | Petal.Width &lt;dbl&gt; | Species &lt;fct&gt; | test_Petal.Length_Width &lt;fct&gt; | clasifica_bien &lt;lgl&gt; |\n",
       "|---|---|---|---|---|---|---|\n",
       "| 4.6 | 3.4 | 1.4 | 0.3 | setosa     | setosa     |  TRUE |\n",
       "| 4.4 | 2.9 | 1.4 | 0.2 | setosa     | setosa     |  TRUE |\n",
       "| 4.3 | 3.0 | 1.1 | 0.1 | setosa     | setosa     |  TRUE |\n",
       "| 4.6 | 3.6 | 1.0 | 0.2 | setosa     | setosa     |  TRUE |\n",
       "| 5.0 | 3.0 | 1.6 | 0.2 | setosa     | setosa     |  TRUE |\n",
       "| 5.4 | 3.4 | 1.5 | 0.4 | setosa     | setosa     |  TRUE |\n",
       "| 5.0 | 3.5 | 1.3 | 0.3 | setosa     | setosa     |  TRUE |\n",
       "| 4.4 | 3.2 | 1.3 | 0.2 | setosa     | setosa     |  TRUE |\n",
       "| 5.0 | 3.3 | 1.4 | 0.2 | setosa     | setosa     |  TRUE |\n",
       "| 6.1 | 2.8 | 4.0 | 1.3 | versicolor | versicolor |  TRUE |\n",
       "| 6.1 | 2.8 | 4.7 | 1.2 | versicolor | versicolor |  TRUE |\n",
       "| 6.6 | 3.0 | 4.4 | 1.4 | versicolor | versicolor |  TRUE |\n",
       "| 6.7 | 3.0 | 5.0 | 1.7 | versicolor | virginica  | FALSE |\n",
       "| 5.5 | 2.4 | 3.8 | 1.1 | versicolor | versicolor |  TRUE |\n",
       "| 5.5 | 2.5 | 4.0 | 1.3 | versicolor | versicolor |  TRUE |\n",
       "| 5.5 | 2.6 | 4.4 | 1.2 | versicolor | versicolor |  TRUE |\n",
       "| 6.1 | 3.0 | 4.6 | 1.4 | versicolor | versicolor |  TRUE |\n",
       "| 5.1 | 2.5 | 3.0 | 1.1 | versicolor | versicolor |  TRUE |\n",
       "| 7.1 | 3.0 | 5.9 | 2.1 | virginica  | virginica  |  TRUE |\n",
       "| 7.6 | 3.0 | 6.6 | 2.1 | virginica  | virginica  |  TRUE |\n",
       "| 6.7 | 2.5 | 5.8 | 1.8 | virginica  | virginica  |  TRUE |\n",
       "| 6.5 | 3.0 | 5.5 | 1.8 | virginica  | virginica  |  TRUE |\n",
       "| 7.7 | 3.8 | 6.7 | 2.2 | virginica  | virginica  |  TRUE |\n",
       "| 7.7 | 3.0 | 6.1 | 2.3 | virginica  | virginica  |  TRUE |\n",
       "| 6.3 | 3.4 | 5.6 | 2.4 | virginica  | virginica  |  TRUE |\n",
       "| 5.8 | 2.7 | 5.1 | 1.9 | virginica  | virginica  |  TRUE |\n",
       "| 6.3 | 2.5 | 5.0 | 1.9 | virginica  | virginica  |  TRUE |\n",
       "| 6.5 | 3.0 | 5.2 | 2.0 | virginica  | virginica  |  TRUE |\n",
       "| 5.9 | 3.0 | 5.1 | 1.8 | virginica  | virginica  |  TRUE |\n",
       "\n"
      ],
      "text/plain": [
       "   Sepal.Length Sepal.Width Petal.Length Petal.Width Species   \n",
       "1  4.6          3.4         1.4          0.3         setosa    \n",
       "2  4.4          2.9         1.4          0.2         setosa    \n",
       "3  4.3          3.0         1.1          0.1         setosa    \n",
       "4  4.6          3.6         1.0          0.2         setosa    \n",
       "5  5.0          3.0         1.6          0.2         setosa    \n",
       "6  5.4          3.4         1.5          0.4         setosa    \n",
       "7  5.0          3.5         1.3          0.3         setosa    \n",
       "8  4.4          3.2         1.3          0.2         setosa    \n",
       "9  5.0          3.3         1.4          0.2         setosa    \n",
       "10 6.1          2.8         4.0          1.3         versicolor\n",
       "11 6.1          2.8         4.7          1.2         versicolor\n",
       "12 6.6          3.0         4.4          1.4         versicolor\n",
       "13 6.7          3.0         5.0          1.7         versicolor\n",
       "14 5.5          2.4         3.8          1.1         versicolor\n",
       "15 5.5          2.5         4.0          1.3         versicolor\n",
       "16 5.5          2.6         4.4          1.2         versicolor\n",
       "17 6.1          3.0         4.6          1.4         versicolor\n",
       "18 5.1          2.5         3.0          1.1         versicolor\n",
       "19 7.1          3.0         5.9          2.1         virginica \n",
       "20 7.6          3.0         6.6          2.1         virginica \n",
       "21 6.7          2.5         5.8          1.8         virginica \n",
       "22 6.5          3.0         5.5          1.8         virginica \n",
       "23 7.7          3.8         6.7          2.2         virginica \n",
       "24 7.7          3.0         6.1          2.3         virginica \n",
       "25 6.3          3.4         5.6          2.4         virginica \n",
       "26 5.8          2.7         5.1          1.9         virginica \n",
       "27 6.3          2.5         5.0          1.9         virginica \n",
       "28 6.5          3.0         5.2          2.0         virginica \n",
       "29 5.9          3.0         5.1          1.8         virginica \n",
       "   test_Petal.Length_Width clasifica_bien\n",
       "1  setosa                   TRUE         \n",
       "2  setosa                   TRUE         \n",
       "3  setosa                   TRUE         \n",
       "4  setosa                   TRUE         \n",
       "5  setosa                   TRUE         \n",
       "6  setosa                   TRUE         \n",
       "7  setosa                   TRUE         \n",
       "8  setosa                   TRUE         \n",
       "9  setosa                   TRUE         \n",
       "10 versicolor               TRUE         \n",
       "11 versicolor               TRUE         \n",
       "12 versicolor               TRUE         \n",
       "13 virginica               FALSE         \n",
       "14 versicolor               TRUE         \n",
       "15 versicolor               TRUE         \n",
       "16 versicolor               TRUE         \n",
       "17 versicolor               TRUE         \n",
       "18 versicolor               TRUE         \n",
       "19 virginica                TRUE         \n",
       "20 virginica                TRUE         \n",
       "21 virginica                TRUE         \n",
       "22 virginica                TRUE         \n",
       "23 virginica                TRUE         \n",
       "24 virginica                TRUE         \n",
       "25 virginica                TRUE         \n",
       "26 virginica                TRUE         \n",
       "27 virginica                TRUE         \n",
       "28 virginica                TRUE         \n",
       "29 virginica                TRUE         "
      ]
     },
     "metadata": {},
     "output_type": "display_data"
    }
   ],
   "source": [
    "x_plpw <-iris_test[,c(\"Petal.Length\",\"Petal.Width\"),drop=F]\n",
    "test_Petal.Length_Width <- apply(x_plpw,1,FUN=clasifica, medias_l=medias_pwpl, varianza_l=covarianzas_plpw,delta=delta, aprioris=aprioris, clases=clases)\n",
    "\n",
    "iris_test_Petal.Length_Width <- cbind(iris_test, test_Petal.Length_Width) %>% mutate(clasifica_bien = Species ==test_Petal.Length_Width)\n",
    "\n",
    "iris_test_Petal.Length_Width"
   ]
  },
  {
   "cell_type": "markdown",
   "metadata": {},
   "source": [
    "Podemos observar que tomando a las variables Petal.Length y Petal.Width logramos clasificar bastante todas las clases y hay muy pocos errores. Revisamos la proporción de observaciones clasificadas de manera correcta."
   ]
  },
  {
   "cell_type": "code",
   "execution_count": 35,
   "metadata": {},
   "outputs": [
    {
     "data": {
      "text/html": [
       "0.96551724137931"
      ],
      "text/latex": [
       "0.96551724137931"
      ],
      "text/markdown": [
       "0.96551724137931"
      ],
      "text/plain": [
       "[1] 0.9655172"
      ]
     },
     "metadata": {},
     "output_type": "display_data"
    }
   ],
   "source": [
    "iris_test_Petal.Length_Width %>% \n",
    "    filter(clasifica_bien==TRUE) %>% \n",
    "    nrow() /nrow(iris_test_Petal.Length_Width)"
   ]
  },
  {
   "cell_type": "markdown",
   "metadata": {},
   "source": [
    "Logramos obtener un ***96.55%*** de observaciones clasificadas de manera correcta. En el caso univariado observamos que la variable Petal.Length clasificaba de mejor manera a las observaciones, podemos ver que en el caso multivariado pasa de manera similar. Podemos ver que las clases están bien separadas como se observa en la siguiente gráfica."
   ]
  },
  {
   "cell_type": "code",
   "execution_count": 36,
   "metadata": {},
   "outputs": [
    {
     "data": {
      "image/png": "[encoded data removed]",
      "text/plain": [
       "plot without title"
      ]
     },
     "metadata": {
      "image/png": {
       "height": 420,
       "width": 420
      }
     },
     "output_type": "display_data"
    }
   ],
   "source": [
    "ggplot(iris_train,aes(x=Petal.Length,y=Petal.Width,color =Species))+ geom_point()\n"
   ]
  },
  {
   "cell_type": "markdown",
   "metadata": {},
   "source": [
    "Por último vamos a probar utilizando tres variables: ___Sepal.Width, Petal.Length, Petal.Width___"
   ]
  },
  {
   "cell_type": "code",
   "execution_count": 37,
   "metadata": {},
   "outputs": [
    {
     "data": {
      "text/html": [
       "<table>\n",
       "<caption>A data.frame: 29 × 7</caption>\n",
       "<thead>\n",
       "\t<tr><th scope=col>Sepal.Length</th><th scope=col>Sepal.Width</th><th scope=col>Petal.Length</th><th scope=col>Petal.Width</th><th scope=col>Species</th><th scope=col>test_Sepal_Petal.Length_Width</th><th scope=col>clasifica_bien</th></tr>\n",
       "\t<tr><th scope=col>&lt;dbl&gt;</th><th scope=col>&lt;dbl&gt;</th><th scope=col>&lt;dbl&gt;</th><th scope=col>&lt;dbl&gt;</th><th scope=col>&lt;fct&gt;</th><th scope=col>&lt;fct&gt;</th><th scope=col>&lt;lgl&gt;</th></tr>\n",
       "</thead>\n",
       "<tbody>\n",
       "\t<tr><td>4.6</td><td>3.4</td><td>1.4</td><td>0.3</td><td>setosa    </td><td>setosa    </td><td> TRUE</td></tr>\n",
       "\t<tr><td>4.4</td><td>2.9</td><td>1.4</td><td>0.2</td><td>setosa    </td><td>setosa    </td><td> TRUE</td></tr>\n",
       "\t<tr><td>4.3</td><td>3.0</td><td>1.1</td><td>0.1</td><td>setosa    </td><td>setosa    </td><td> TRUE</td></tr>\n",
       "\t<tr><td>4.6</td><td>3.6</td><td>1.0</td><td>0.2</td><td>setosa    </td><td>setosa    </td><td> TRUE</td></tr>\n",
       "\t<tr><td>5.0</td><td>3.0</td><td>1.6</td><td>0.2</td><td>setosa    </td><td>setosa    </td><td> TRUE</td></tr>\n",
       "\t<tr><td>5.4</td><td>3.4</td><td>1.5</td><td>0.4</td><td>setosa    </td><td>setosa    </td><td> TRUE</td></tr>\n",
       "\t<tr><td>5.0</td><td>3.5</td><td>1.3</td><td>0.3</td><td>setosa    </td><td>setosa    </td><td> TRUE</td></tr>\n",
       "\t<tr><td>4.4</td><td>3.2</td><td>1.3</td><td>0.2</td><td>setosa    </td><td>setosa    </td><td> TRUE</td></tr>\n",
       "\t<tr><td>5.0</td><td>3.3</td><td>1.4</td><td>0.2</td><td>setosa    </td><td>setosa    </td><td> TRUE</td></tr>\n",
       "\t<tr><td>6.1</td><td>2.8</td><td>4.0</td><td>1.3</td><td>versicolor</td><td>versicolor</td><td> TRUE</td></tr>\n",
       "\t<tr><td>6.1</td><td>2.8</td><td>4.7</td><td>1.2</td><td>versicolor</td><td>versicolor</td><td> TRUE</td></tr>\n",
       "\t<tr><td>6.6</td><td>3.0</td><td>4.4</td><td>1.4</td><td>versicolor</td><td>versicolor</td><td> TRUE</td></tr>\n",
       "\t<tr><td>6.7</td><td>3.0</td><td>5.0</td><td>1.7</td><td>versicolor</td><td>virginica </td><td>FALSE</td></tr>\n",
       "\t<tr><td>5.5</td><td>2.4</td><td>3.8</td><td>1.1</td><td>versicolor</td><td>versicolor</td><td> TRUE</td></tr>\n",
       "\t<tr><td>5.5</td><td>2.5</td><td>4.0</td><td>1.3</td><td>versicolor</td><td>versicolor</td><td> TRUE</td></tr>\n",
       "\t<tr><td>5.5</td><td>2.6</td><td>4.4</td><td>1.2</td><td>versicolor</td><td>versicolor</td><td> TRUE</td></tr>\n",
       "\t<tr><td>6.1</td><td>3.0</td><td>4.6</td><td>1.4</td><td>versicolor</td><td>versicolor</td><td> TRUE</td></tr>\n",
       "\t<tr><td>5.1</td><td>2.5</td><td>3.0</td><td>1.1</td><td>versicolor</td><td>versicolor</td><td> TRUE</td></tr>\n",
       "\t<tr><td>7.1</td><td>3.0</td><td>5.9</td><td>2.1</td><td>virginica </td><td>virginica </td><td> TRUE</td></tr>\n",
       "\t<tr><td>7.6</td><td>3.0</td><td>6.6</td><td>2.1</td><td>virginica </td><td>virginica </td><td> TRUE</td></tr>\n",
       "\t<tr><td>6.7</td><td>2.5</td><td>5.8</td><td>1.8</td><td>virginica </td><td>virginica </td><td> TRUE</td></tr>\n",
       "\t<tr><td>6.5</td><td>3.0</td><td>5.5</td><td>1.8</td><td>virginica </td><td>virginica </td><td> TRUE</td></tr>\n",
       "\t<tr><td>7.7</td><td>3.8</td><td>6.7</td><td>2.2</td><td>virginica </td><td>virginica </td><td> TRUE</td></tr>\n",
       "\t<tr><td>7.7</td><td>3.0</td><td>6.1</td><td>2.3</td><td>virginica </td><td>virginica </td><td> TRUE</td></tr>\n",
       "\t<tr><td>6.3</td><td>3.4</td><td>5.6</td><td>2.4</td><td>virginica </td><td>virginica </td><td> TRUE</td></tr>\n",
       "\t<tr><td>5.8</td><td>2.7</td><td>5.1</td><td>1.9</td><td>virginica </td><td>virginica </td><td> TRUE</td></tr>\n",
       "\t<tr><td>6.3</td><td>2.5</td><td>5.0</td><td>1.9</td><td>virginica </td><td>virginica </td><td> TRUE</td></tr>\n",
       "\t<tr><td>6.5</td><td>3.0</td><td>5.2</td><td>2.0</td><td>virginica </td><td>virginica </td><td> TRUE</td></tr>\n",
       "\t<tr><td>5.9</td><td>3.0</td><td>5.1</td><td>1.8</td><td>virginica </td><td>virginica </td><td> TRUE</td></tr>\n",
       "</tbody>\n",
       "</table>\n"
      ],
      "text/latex": [
       "A data.frame: 29 × 7\n",
       "\\begin{tabular}{lllllll}\n",
       " Sepal.Length & Sepal.Width & Petal.Length & Petal.Width & Species & test\\_Sepal\\_Petal.Length\\_Width & clasifica\\_bien\\\\\n",
       " <dbl> & <dbl> & <dbl> & <dbl> & <fct> & <fct> & <lgl>\\\\\n",
       "\\hline\n",
       "\t 4.6 & 3.4 & 1.4 & 0.3 & setosa     & setosa     &  TRUE\\\\\n",
       "\t 4.4 & 2.9 & 1.4 & 0.2 & setosa     & setosa     &  TRUE\\\\\n",
       "\t 4.3 & 3.0 & 1.1 & 0.1 & setosa     & setosa     &  TRUE\\\\\n",
       "\t 4.6 & 3.6 & 1.0 & 0.2 & setosa     & setosa     &  TRUE\\\\\n",
       "\t 5.0 & 3.0 & 1.6 & 0.2 & setosa     & setosa     &  TRUE\\\\\n",
       "\t 5.4 & 3.4 & 1.5 & 0.4 & setosa     & setosa     &  TRUE\\\\\n",
       "\t 5.0 & 3.5 & 1.3 & 0.3 & setosa     & setosa     &  TRUE\\\\\n",
       "\t 4.4 & 3.2 & 1.3 & 0.2 & setosa     & setosa     &  TRUE\\\\\n",
       "\t 5.0 & 3.3 & 1.4 & 0.2 & setosa     & setosa     &  TRUE\\\\\n",
       "\t 6.1 & 2.8 & 4.0 & 1.3 & versicolor & versicolor &  TRUE\\\\\n",
       "\t 6.1 & 2.8 & 4.7 & 1.2 & versicolor & versicolor &  TRUE\\\\\n",
       "\t 6.6 & 3.0 & 4.4 & 1.4 & versicolor & versicolor &  TRUE\\\\\n",
       "\t 6.7 & 3.0 & 5.0 & 1.7 & versicolor & virginica  & FALSE\\\\\n",
       "\t 5.5 & 2.4 & 3.8 & 1.1 & versicolor & versicolor &  TRUE\\\\\n",
       "\t 5.5 & 2.5 & 4.0 & 1.3 & versicolor & versicolor &  TRUE\\\\\n",
       "\t 5.5 & 2.6 & 4.4 & 1.2 & versicolor & versicolor &  TRUE\\\\\n",
       "\t 6.1 & 3.0 & 4.6 & 1.4 & versicolor & versicolor &  TRUE\\\\\n",
       "\t 5.1 & 2.5 & 3.0 & 1.1 & versicolor & versicolor &  TRUE\\\\\n",
       "\t 7.1 & 3.0 & 5.9 & 2.1 & virginica  & virginica  &  TRUE\\\\\n",
       "\t 7.6 & 3.0 & 6.6 & 2.1 & virginica  & virginica  &  TRUE\\\\\n",
       "\t 6.7 & 2.5 & 5.8 & 1.8 & virginica  & virginica  &  TRUE\\\\\n",
       "\t 6.5 & 3.0 & 5.5 & 1.8 & virginica  & virginica  &  TRUE\\\\\n",
       "\t 7.7 & 3.8 & 6.7 & 2.2 & virginica  & virginica  &  TRUE\\\\\n",
       "\t 7.7 & 3.0 & 6.1 & 2.3 & virginica  & virginica  &  TRUE\\\\\n",
       "\t 6.3 & 3.4 & 5.6 & 2.4 & virginica  & virginica  &  TRUE\\\\\n",
       "\t 5.8 & 2.7 & 5.1 & 1.9 & virginica  & virginica  &  TRUE\\\\\n",
       "\t 6.3 & 2.5 & 5.0 & 1.9 & virginica  & virginica  &  TRUE\\\\\n",
       "\t 6.5 & 3.0 & 5.2 & 2.0 & virginica  & virginica  &  TRUE\\\\\n",
       "\t 5.9 & 3.0 & 5.1 & 1.8 & virginica  & virginica  &  TRUE\\\\\n",
       "\\end{tabular}\n"
      ],
      "text/markdown": [
       "\n",
       "A data.frame: 29 × 7\n",
       "\n",
       "| Sepal.Length &lt;dbl&gt; | Sepal.Width &lt;dbl&gt; | Petal.Length &lt;dbl&gt; | Petal.Width &lt;dbl&gt; | Species &lt;fct&gt; | test_Sepal_Petal.Length_Width &lt;fct&gt; | clasifica_bien &lt;lgl&gt; |\n",
       "|---|---|---|---|---|---|---|\n",
       "| 4.6 | 3.4 | 1.4 | 0.3 | setosa     | setosa     |  TRUE |\n",
       "| 4.4 | 2.9 | 1.4 | 0.2 | setosa     | setosa     |  TRUE |\n",
       "| 4.3 | 3.0 | 1.1 | 0.1 | setosa     | setosa     |  TRUE |\n",
       "| 4.6 | 3.6 | 1.0 | 0.2 | setosa     | setosa     |  TRUE |\n",
       "| 5.0 | 3.0 | 1.6 | 0.2 | setosa     | setosa     |  TRUE |\n",
       "| 5.4 | 3.4 | 1.5 | 0.4 | setosa     | setosa     |  TRUE |\n",
       "| 5.0 | 3.5 | 1.3 | 0.3 | setosa     | setosa     |  TRUE |\n",
       "| 4.4 | 3.2 | 1.3 | 0.2 | setosa     | setosa     |  TRUE |\n",
       "| 5.0 | 3.3 | 1.4 | 0.2 | setosa     | setosa     |  TRUE |\n",
       "| 6.1 | 2.8 | 4.0 | 1.3 | versicolor | versicolor |  TRUE |\n",
       "| 6.1 | 2.8 | 4.7 | 1.2 | versicolor | versicolor |  TRUE |\n",
       "| 6.6 | 3.0 | 4.4 | 1.4 | versicolor | versicolor |  TRUE |\n",
       "| 6.7 | 3.0 | 5.0 | 1.7 | versicolor | virginica  | FALSE |\n",
       "| 5.5 | 2.4 | 3.8 | 1.1 | versicolor | versicolor |  TRUE |\n",
       "| 5.5 | 2.5 | 4.0 | 1.3 | versicolor | versicolor |  TRUE |\n",
       "| 5.5 | 2.6 | 4.4 | 1.2 | versicolor | versicolor |  TRUE |\n",
       "| 6.1 | 3.0 | 4.6 | 1.4 | versicolor | versicolor |  TRUE |\n",
       "| 5.1 | 2.5 | 3.0 | 1.1 | versicolor | versicolor |  TRUE |\n",
       "| 7.1 | 3.0 | 5.9 | 2.1 | virginica  | virginica  |  TRUE |\n",
       "| 7.6 | 3.0 | 6.6 | 2.1 | virginica  | virginica  |  TRUE |\n",
       "| 6.7 | 2.5 | 5.8 | 1.8 | virginica  | virginica  |  TRUE |\n",
       "| 6.5 | 3.0 | 5.5 | 1.8 | virginica  | virginica  |  TRUE |\n",
       "| 7.7 | 3.8 | 6.7 | 2.2 | virginica  | virginica  |  TRUE |\n",
       "| 7.7 | 3.0 | 6.1 | 2.3 | virginica  | virginica  |  TRUE |\n",
       "| 6.3 | 3.4 | 5.6 | 2.4 | virginica  | virginica  |  TRUE |\n",
       "| 5.8 | 2.7 | 5.1 | 1.9 | virginica  | virginica  |  TRUE |\n",
       "| 6.3 | 2.5 | 5.0 | 1.9 | virginica  | virginica  |  TRUE |\n",
       "| 6.5 | 3.0 | 5.2 | 2.0 | virginica  | virginica  |  TRUE |\n",
       "| 5.9 | 3.0 | 5.1 | 1.8 | virginica  | virginica  |  TRUE |\n",
       "\n"
      ],
      "text/plain": [
       "   Sepal.Length Sepal.Width Petal.Length Petal.Width Species   \n",
       "1  4.6          3.4         1.4          0.3         setosa    \n",
       "2  4.4          2.9         1.4          0.2         setosa    \n",
       "3  4.3          3.0         1.1          0.1         setosa    \n",
       "4  4.6          3.6         1.0          0.2         setosa    \n",
       "5  5.0          3.0         1.6          0.2         setosa    \n",
       "6  5.4          3.4         1.5          0.4         setosa    \n",
       "7  5.0          3.5         1.3          0.3         setosa    \n",
       "8  4.4          3.2         1.3          0.2         setosa    \n",
       "9  5.0          3.3         1.4          0.2         setosa    \n",
       "10 6.1          2.8         4.0          1.3         versicolor\n",
       "11 6.1          2.8         4.7          1.2         versicolor\n",
       "12 6.6          3.0         4.4          1.4         versicolor\n",
       "13 6.7          3.0         5.0          1.7         versicolor\n",
       "14 5.5          2.4         3.8          1.1         versicolor\n",
       "15 5.5          2.5         4.0          1.3         versicolor\n",
       "16 5.5          2.6         4.4          1.2         versicolor\n",
       "17 6.1          3.0         4.6          1.4         versicolor\n",
       "18 5.1          2.5         3.0          1.1         versicolor\n",
       "19 7.1          3.0         5.9          2.1         virginica \n",
       "20 7.6          3.0         6.6          2.1         virginica \n",
       "21 6.7          2.5         5.8          1.8         virginica \n",
       "22 6.5          3.0         5.5          1.8         virginica \n",
       "23 7.7          3.8         6.7          2.2         virginica \n",
       "24 7.7          3.0         6.1          2.3         virginica \n",
       "25 6.3          3.4         5.6          2.4         virginica \n",
       "26 5.8          2.7         5.1          1.9         virginica \n",
       "27 6.3          2.5         5.0          1.9         virginica \n",
       "28 6.5          3.0         5.2          2.0         virginica \n",
       "29 5.9          3.0         5.1          1.8         virginica \n",
       "   test_Sepal_Petal.Length_Width clasifica_bien\n",
       "1  setosa                         TRUE         \n",
       "2  setosa                         TRUE         \n",
       "3  setosa                         TRUE         \n",
       "4  setosa                         TRUE         \n",
       "5  setosa                         TRUE         \n",
       "6  setosa                         TRUE         \n",
       "7  setosa                         TRUE         \n",
       "8  setosa                         TRUE         \n",
       "9  setosa                         TRUE         \n",
       "10 versicolor                     TRUE         \n",
       "11 versicolor                     TRUE         \n",
       "12 versicolor                     TRUE         \n",
       "13 virginica                     FALSE         \n",
       "14 versicolor                     TRUE         \n",
       "15 versicolor                     TRUE         \n",
       "16 versicolor                     TRUE         \n",
       "17 versicolor                     TRUE         \n",
       "18 versicolor                     TRUE         \n",
       "19 virginica                      TRUE         \n",
       "20 virginica                      TRUE         \n",
       "21 virginica                      TRUE         \n",
       "22 virginica                      TRUE         \n",
       "23 virginica                      TRUE         \n",
       "24 virginica                      TRUE         \n",
       "25 virginica                      TRUE         \n",
       "26 virginica                      TRUE         \n",
       "27 virginica                      TRUE         \n",
       "28 virginica                      TRUE         \n",
       "29 virginica                      TRUE         "
      ]
     },
     "metadata": {},
     "output_type": "display_data"
    }
   ],
   "source": [
    "x_swplpw <-iris_test[,c(\"Sepal.Width\",\"Petal.Length\",\"Petal.Width\"),drop=F]\n",
    "test_Sepal_Petal.Length_Width <- apply(x_swplpw,1,FUN=clasifica, medias_l=medias_swplpw, varianza_l=covarianzas_swplpw,delta=delta, aprioris=aprioris, clases=clases)\n",
    "\n",
    "iris_test_Sepal_Petal.Length_Width <- cbind(iris_test, test_Sepal_Petal.Length_Width) %>% mutate(clasifica_bien = Species ==test_Sepal_Petal.Length_Width)\n",
    "\n",
    "iris_test_Sepal_Petal.Length_Width"
   ]
  },
  {
   "cell_type": "markdown",
   "metadata": {},
   "source": [
    "Vemos la proporción de observaciones clasificadas de manera correcta."
   ]
  },
  {
   "cell_type": "code",
   "execution_count": 38,
   "metadata": {},
   "outputs": [
    {
     "data": {
      "text/html": [
       "0.96551724137931"
      ],
      "text/latex": [
       "0.96551724137931"
      ],
      "text/markdown": [
       "0.96551724137931"
      ],
      "text/plain": [
       "[1] 0.9655172"
      ]
     },
     "metadata": {},
     "output_type": "display_data"
    }
   ],
   "source": [
    "iris_test_Sepal_Petal.Length_Width %>% \n",
    "    filter(clasifica_bien==TRUE) %>% \n",
    "    nrow() /nrow(iris_test_Sepal_Petal.Length_Width)"
   ]
  },
  {
   "cell_type": "markdown",
   "metadata": {},
   "source": [
    "Podemos ver que el desempeño es bastante bueno, sin embargo, a diferencia de tomar únicamente dos variables, no tiene un cambio significativo."
   ]
  },
  {
   "cell_type": "markdown",
   "metadata": {},
   "source": [
    "## Conlusión\n",
    "\n",
    "Añadir variables al modelo mejora su desempeño, sin embargo, el verdadero diferenciador es que las clases estén bien separadas."
   ]
  }
 ],
 "metadata": {
  "kernelspec": {
   "display_name": "R",
   "language": "R",
   "name": "ir"
  },
  "language_info": {
   "codemirror_mode": "r",
   "file_extension": ".r",
   "mimetype": "text/x-r-source",
   "name": "R",
   "pygments_lexer": "r",
   "version": "3.6.3"
  }
 },
 "nbformat": 4,
 "nbformat_minor": 4
}
